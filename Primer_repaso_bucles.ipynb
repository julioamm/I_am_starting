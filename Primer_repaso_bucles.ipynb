{
  "nbformat": 4,
  "nbformat_minor": 0,
  "metadata": {
    "colab": {
      "provenance": [],
      "authorship_tag": "ABX9TyO3XSHzATCdfblgiNu9SO93",
      "include_colab_link": true
    },
    "kernelspec": {
      "name": "python3",
      "display_name": "Python 3"
    },
    "language_info": {
      "name": "python"
    }
  },
  "cells": [
    {
      "cell_type": "markdown",
      "metadata": {
        "id": "view-in-github",
        "colab_type": "text"
      },
      "source": [
        "<a href=\"https://colab.research.google.com/github/julioamm/I_am_starting/blob/main/Primer_repaso_bucles.ipynb\" target=\"_parent\"><img src=\"https://colab.research.google.com/assets/colab-badge.svg\" alt=\"Open In Colab\"/></a>"
      ]
    },
    {
      "cell_type": "code",
      "execution_count": null,
      "metadata": {
        "colab": {
          "base_uri": "https://localhost:8080/"
        },
        "id": "UieyXr5kaIiK",
        "outputId": "5bdc0a3e-f9fa-4789-b13d-f75cad98c778"
      },
      "outputs": [
        {
          "output_type": "stream",
          "name": "stdout",
          "text": [
            "Introduce una palabra: julio\n",
            "julio\n",
            "julio\n",
            "julio\n",
            "julio\n",
            "julio\n",
            "julio\n",
            "julio\n",
            "julio\n",
            "julio\n",
            "julio\n"
          ]
        }
      ],
      "source": [
        "#Escribir un programa que pida al usuario una palabra y la muestre por pantalla 10 veces.\n",
        "lista = range(1,11)\n",
        "palabra = input(\"Introduce una palabra: \")\n",
        "for n in lista:\n",
        "  print(palabra)"
      ]
    },
    {
      "cell_type": "code",
      "source": [
        "\n",
        "#Escribir un programa que pida al usuario una palabra y la muestre por pantalla 10 veces.\n",
        "p = input(\"Escribe una palabra: \")\n",
        "for i in range(10):\n",
        "  print(p)"
      ],
      "metadata": {
        "colab": {
          "base_uri": "https://localhost:8080/"
        },
        "id": "UV5X6X6Qeap8",
        "outputId": "04f9a434-34c6-4636-cf22-109a1951513e"
      },
      "execution_count": null,
      "outputs": [
        {
          "output_type": "stream",
          "name": "stdout",
          "text": [
            "Escribe una palabra: Julio\n",
            "Julio\n",
            "Julio\n",
            "Julio\n",
            "Julio\n",
            "Julio\n",
            "Julio\n",
            "Julio\n",
            "Julio\n",
            "Julio\n",
            "Julio\n"
          ]
        }
      ]
    },
    {
      "cell_type": "code",
      "source": [
        "#Escribir un programa que pregunte al usuario su edad y muestre por pantalla todos los años que ha cumplido (desde 1 hasta su edad).\n",
        "edad = int(input(\"¿Cual es tu edad? \"))\n",
        "for anio in range(1,edad+1):\n",
        "  print(f\"Año {anio}. \")"
      ],
      "metadata": {
        "id": "tZBlP8VgfGTv"
      },
      "execution_count": null,
      "outputs": []
    },
    {
      "cell_type": "code",
      "source": [
        "#Escribir un programa que pida al usuario un número entero positivo\n",
        "#y muestre por pantalla todos los números impares desde 1 hasta ese número separados por comas.\n",
        "num1 = int(input(\"Escribe un numero entero positivo. \"))\n",
        "impares = []\n",
        "for n in range(1,num1+1):\n",
        "  if num1 <= 0:\n",
        "    print(\"El numero no es positivo.\")\n",
        "  elif n % 2 == 1:\n",
        "    impares.append(str(n))\n",
        "print(impares)\n"
      ],
      "metadata": {
        "colab": {
          "base_uri": "https://localhost:8080/"
        },
        "id": "DWVbL7SZgHRL",
        "outputId": "3cada385-63fe-44cb-c463-09f52c549466"
      },
      "execution_count": null,
      "outputs": [
        {
          "output_type": "stream",
          "name": "stdout",
          "text": [
            "Escribe un numero entero positivo. -8\n",
            "[]\n"
          ]
        }
      ]
    },
    {
      "cell_type": "code",
      "source": [
        "num1 = int(input(\"Escribe un numero entero positivo. \"))\n",
        "impares = []\n",
        "\n",
        "if num1 <= 0:\n",
        "  print(\"El numero no es positovo.\")\n",
        "else:\n",
        "  for n in range(num1+1):\n",
        "    if n % 2 == 1:\n",
        "      impares.append(str(n))\n",
        "print(\"Los numero impares positivos hasta \",num1,\":\",impares)\n",
        "\n"
      ],
      "metadata": {
        "colab": {
          "base_uri": "https://localhost:8080/"
        },
        "id": "GO_q_vcwkIBP",
        "outputId": "a200c2e7-0cc3-48e6-ea11-d7f159c8b630"
      },
      "execution_count": null,
      "outputs": [
        {
          "output_type": "stream",
          "name": "stdout",
          "text": [
            "Escribe un numero entero positivo. -89\n",
            "El numero no es positovo.\n",
            "Los numero impares positivos hasta  -89 : []\n"
          ]
        }
      ]
    },
    {
      "cell_type": "code",
      "source": [
        "#Escribir un programa que pida al usuario un número entero positivo\n",
        "#y muestre por pantalla la cuenta atrás desde ese número hasta cero separados por comas.\n",
        "num1 = int(input(\"introduce un numero entero positivo. \"))\n",
        "lista1 = []\n",
        "\n",
        "if num1 <= 0:\n",
        "  print(\"El numero no es positivo.\")\n",
        "else:\n",
        "  for n in range(num1+1):\n",
        "    num1 -= n\n",
        "    lista1.append(str(n))\n",
        "    lista_invertida = lista1[::-1]\n",
        "  print(lista_invertida)\n"
      ],
      "metadata": {
        "colab": {
          "base_uri": "https://localhost:8080/"
        },
        "id": "IckGZ_v7malN",
        "outputId": "1e577cb8-ca09-4036-ee2b-244c93454f95"
      },
      "execution_count": null,
      "outputs": [
        {
          "output_type": "stream",
          "name": "stdout",
          "text": [
            "introduce un numero entero positivo. 7\n",
            "['7', '6', '5', '4', '3', '2', '1', '0']\n"
          ]
        }
      ]
    },
    {
      "cell_type": "code",
      "source": [
        "#Escribir un programa que pregunte al usuario una cantidad a invertir, el interés anual y\n",
        "#el número de años, y muestre por pantalla el capital obtenido en la inversión cada año que dura la inversión.\n",
        "cantidad = float(input(\"Cual es la cantidad que invertiras? \"))\n",
        "anio = int(input(\"¿cuantos años lo invertiras?\"))\n",
        "interes_anual = float(input(\"¿Cual es tu tasa anual?\"))\n",
        "interes = interes_anual / 100\n",
        "for a in range(1,anio+1):\n",
        "  total = cantidad * (1 + interes) ** a\n",
        "  print(f\"Año {a}: capital obtenido {total:.2f}\")\n"
      ],
      "metadata": {
        "colab": {
          "base_uri": "https://localhost:8080/"
        },
        "id": "XXYVbsJ-s5uW",
        "outputId": "6daa91c7-54c2-4768-abb5-873025a34309"
      },
      "execution_count": null,
      "outputs": [
        {
          "output_type": "stream",
          "name": "stdout",
          "text": [
            "Cual es la cantidad que invertiras? 3000\n",
            "¿cuantos años lo invertiras?4\n",
            "¿Cual es tu tasa anual?1.5\n",
            "Año 1: capital obtenido 3045.00\n",
            "Año 2: capital obtenido 3090.67\n",
            "Año 3: capital obtenido 3137.04\n",
            "Año 4: capital obtenido 3184.09\n"
          ]
        }
      ]
    },
    {
      "cell_type": "code",
      "source": [
        "#Escribir un programa que pida al usuario un número entero y\n",
        "#muestre por pantalla un triángulo rectángulo como el de más abajo,\n",
        "#de altura el número introducido.\n",
        "num = int(input(\"Introduce un numero entero. \"))\n",
        "signo = str(\"*\")\n",
        "for n in range(0,num):\n",
        "  n += 1\n",
        "  resu = signo * n\n",
        "  print(resu)\n"
      ],
      "metadata": {
        "colab": {
          "base_uri": "https://localhost:8080/"
        },
        "id": "LXWKn1iW0ase",
        "outputId": "7db70ce1-3e42-4d9e-f61c-6fff7d85e0b2"
      },
      "execution_count": null,
      "outputs": [
        {
          "output_type": "stream",
          "name": "stdout",
          "text": [
            "Introduce un numero entero. 6\n",
            "*\n",
            "**\n",
            "***\n",
            "****\n",
            "*****\n",
            "******\n"
          ]
        }
      ]
    },
    {
      "cell_type": "code",
      "source": [
        "#Escribir un programa que muestre por pantalla la tabla de multiplicar del 1 al 10.\n",
        "tabla_10 = int(10)\n",
        "for n in range(0,11):\n",
        "  print(\"Esta es la tabla del 10 X\", n,\"=\",n*tabla_10)"
      ],
      "metadata": {
        "colab": {
          "base_uri": "https://localhost:8080/"
        },
        "id": "4lrG8-BJmjKj",
        "outputId": "88f58ec6-f9e8-4001-b284-07ce40916e65"
      },
      "execution_count": null,
      "outputs": [
        {
          "output_type": "stream",
          "name": "stdout",
          "text": [
            "Esta es la tabla del 10 X 0 = 0\n",
            "Esta es la tabla del 10 X 1 = 10\n",
            "Esta es la tabla del 10 X 2 = 20\n",
            "Esta es la tabla del 10 X 3 = 30\n",
            "Esta es la tabla del 10 X 4 = 40\n",
            "Esta es la tabla del 10 X 5 = 50\n",
            "Esta es la tabla del 10 X 6 = 60\n",
            "Esta es la tabla del 10 X 7 = 70\n",
            "Esta es la tabla del 10 X 8 = 80\n",
            "Esta es la tabla del 10 X 9 = 90\n",
            "Esta es la tabla del 10 X 10 = 100\n"
          ]
        }
      ]
    },
    {
      "cell_type": "code",
      "source": [
        "#Escribir un programa que pida al usuario un número entero y muestre por pantalla un triángulo rectángulo como el de más abajo.\n",
        "numero_filas = int(input(\"Ingresa un numero:\"))\n",
        "for n in range(1,numero_filas+1):\n",
        "  for n2 in range(2*n-1,0,-2):\n",
        "    print(n2,end=\" \")\n",
        "  print()\n",
        "\n",
        "\n",
        "\n"
      ],
      "metadata": {
        "colab": {
          "base_uri": "https://localhost:8080/"
        },
        "id": "1p8BwRUsnxmw",
        "outputId": "a5461ecd-9c02-47f3-88b1-d7d93bcb1a81"
      },
      "execution_count": null,
      "outputs": [
        {
          "output_type": "stream",
          "name": "stdout",
          "text": [
            "Ingresa un numero:3\n",
            "1 \n",
            "3 1 \n",
            "5 3 1 \n"
          ]
        }
      ]
    },
    {
      "cell_type": "code",
      "source": [
        "contr = \"contraseña\"\n",
        "cont_usuario = \"0\"\n",
        "while contr != cont_usuario:\n",
        "  cont_usuario = input(\"Escribe la contraseña correcta. \")\n",
        "else:\n",
        "  print(\"Tienes acceso. Tu puedes!!!!\")\n"
      ],
      "metadata": {
        "colab": {
          "base_uri": "https://localhost:8080/"
        },
        "id": "YMXDdVj8DIcO",
        "outputId": "d7c53272-1df7-455f-db20-0cf2082e84ac"
      },
      "execution_count": null,
      "outputs": [
        {
          "output_type": "stream",
          "name": "stdout",
          "text": [
            "Escribe la contraseña correcta. Julio\n",
            "Escribe la contraseña correcta. contraseña\n",
            "Tienes acceso. Tu puedes!!!!\n"
          ]
        }
      ]
    },
    {
      "cell_type": "code",
      "source": [
        "#Escribir un programa que pida al usuario una palabra y luego muestre por pantalla\n",
        "#una a una las letras de la palabra introducida empezando por la última.\n",
        "palabra = input(\"Escribe una palabra. \")\n",
        "inv_palabra = palabra[::-1]\n",
        "for l in inv_palabra:\n",
        "  print(l)\n"
      ],
      "metadata": {
        "colab": {
          "base_uri": "https://localhost:8080/"
        },
        "id": "DBljerKKIYoj",
        "outputId": "458c36be-707f-4372-d165-9854d659a9e5"
      },
      "execution_count": null,
      "outputs": [
        {
          "output_type": "stream",
          "name": "stdout",
          "text": [
            "Escribe una palabra. julio\n",
            "o\n",
            "i\n",
            "l\n",
            "u\n",
            "j\n"
          ]
        }
      ]
    },
    {
      "cell_type": "code",
      "source": [
        "#Escribir un programa que pida al usuario un número entero y muestre por pantalla si es un número primo o no.\n",
        "numero = int(input(\"Escribe un numero positivo. \"))\n",
        "lista = range(2,numero)\n",
        "for n in lista:\n",
        "\n",
        "  if numero % n == 0 and numero % 1 ==0:\n",
        "    print(\"Es numero primo.\")\n",
        "  else:\n",
        "    print(\"No es numero primo\")\n",
        "\n"
      ],
      "metadata": {
        "colab": {
          "base_uri": "https://localhost:8080/"
        },
        "id": "mAnQ5-cNJqDM",
        "outputId": "07babc56-c17c-48a7-bfc3-9c519d83e2b4"
      },
      "execution_count": null,
      "outputs": [
        {
          "output_type": "stream",
          "name": "stdout",
          "text": [
            "Escribe un numero positivo. 3\n",
            "No es numero primo\n",
            "Es numero primo.\n"
          ]
        }
      ]
    },
    {
      "cell_type": "code",
      "source": [
        "frase = input(\"Escribe una frase. \")\n",
        "letra = input(\"Que letra quieres que busquemos? \")\n",
        "frase = frase.lower()\n",
        "letra = letra.lower()\n",
        "cont = 0\n",
        "for l in frase:\n",
        "  if l == letra:\n",
        "    cont += 1\n",
        "print(\"Tu letra esta\", cont ,\"veces\")"
      ],
      "metadata": {
        "colab": {
          "base_uri": "https://localhost:8080/"
        },
        "id": "xAwUX55wScAb",
        "outputId": "10e5b508-3f89-4b1a-ff68-82e2cc282e1b"
      },
      "execution_count": null,
      "outputs": [
        {
          "output_type": "stream",
          "name": "stdout",
          "text": [
            "Escribe una frase. que haces QQQQ\n",
            "Que letra quieres que busquemos? q\n",
            "Tu letra esta 5 veces\n"
          ]
        }
      ]
    },
    {
      "cell_type": "code",
      "source": [
        "#Escribir un programa que muestre el eco de todo lo que el usuario introduzca hasta que el usuario escriba “salir” que terminará.\n",
        "\n",
        "while True:\n",
        "  entrada = input(\"Escribe algo o escribe salir para terminar. \")\n",
        "  if entrada.lower() == \"salir\":\n",
        "    print(\"OK\")\n",
        "    break\n",
        "  else:\n",
        "    print(\"Escribiste:\", entrada)\n",
        "\n",
        "\n"
      ],
      "metadata": {
        "colab": {
          "base_uri": "https://localhost:8080/"
        },
        "id": "UN6RKGmWVlir",
        "outputId": "de07af83-290f-4e34-f5d1-878274e9f8f7"
      },
      "execution_count": null,
      "outputs": [
        {
          "output_type": "stream",
          "name": "stdout",
          "text": [
            "Escribe algo o escribe salir para terminar. hola\n",
            "Escribiste: hola\n",
            "Escribe algo o escribe salir para terminar. salir\n",
            "OK\n"
          ]
        }
      ]
    },
    {
      "cell_type": "code",
      "source": [],
      "metadata": {
        "id": "uEh_yE8lbdPl"
      },
      "execution_count": null,
      "outputs": []
    }
  ]
}