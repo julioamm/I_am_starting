{
  "nbformat": 4,
  "nbformat_minor": 0,
  "metadata": {
    "colab": {
      "provenance": [],
      "authorship_tag": "ABX9TyMGswQN/O/+MzkrgBDIu6C3",
      "include_colab_link": true
    },
    "kernelspec": {
      "name": "python3",
      "display_name": "Python 3"
    },
    "language_info": {
      "name": "python"
    }
  },
  "cells": [
    {
      "cell_type": "markdown",
      "metadata": {
        "id": "view-in-github",
        "colab_type": "text"
      },
      "source": [
        "<a href=\"https://colab.research.google.com/github/julioamm/I_am_starting/blob/main/Primer_repaso_diccionarios.ipynb\" target=\"_parent\"><img src=\"https://colab.research.google.com/assets/colab-badge.svg\" alt=\"Open In Colab\"/></a>"
      ]
    },
    {
      "cell_type": "code",
      "execution_count": 13,
      "metadata": {
        "colab": {
          "base_uri": "https://localhost:8080/"
        },
        "id": "q-UWfROhcvQI",
        "outputId": "3f7bb836-907c-467b-c19c-c0bf3df12804"
      },
      "outputs": [
        {
          "output_type": "stream",
          "name": "stdout",
          "text": [
            "Escribe el nombre de una divisa y veras su simbolo. dollar\n",
            "la divisa buscada Dollar tiene este simbolo $\n"
          ]
        }
      ],
      "source": [
        "#Escribir un programa que guarde en una variable el diccionario {'Euro':'€', 'Dollar':'$', 'Yen':'¥'},\n",
        "#pregunte al usuario por una divisa y muestre su símbolo o un mensaje de aviso si la divisa no está en el diccionario.\n",
        "\n",
        "monedas = {'Euro':'€', 'Dollar':'$', 'Yen':'¥'}\n",
        "divisa_buscada = input(\"Escribe el nombre de una divisa y veras su simbolo. \")\n",
        "divisa_buscada = divisa_buscada.title()\n",
        "if divisa_buscada in monedas:\n",
        "    signo = monedas[divisa_buscada]\n",
        "    print(f\"la divisa buscada {divisa_buscada} tiene este simbolo {signo}\")\n",
        "else:\n",
        "    print(f\"La divisa buscada {divisa_buscada} no se encuentra.\")\n"
      ]
    },
    {
      "cell_type": "code",
      "source": [
        "#Escribir un programa que pregunte al usuario su nombre, edad, dirección y teléfono y lo guarde en un diccionario.\n",
        "#Después debe mostrar por pantalla el mensaje <nombre> tiene <edad> años,\n",
        "#vive en <dirección> y su número de teléfono es <teléfono>.\n",
        "\n",
        "datos = {\"nombre\":(input(\"¿Cual es tu nombre? \")).title(),\n",
        "         \"edad\":int(input(\"¿Cuantos años tienes? \")),\n",
        "         \"telefono\":int(input(\"¿Cual es tu telefono? \"))}\n",
        "print(f\"{datos['nombre']} tienes {datos['edad']} y tu telefono es {datos['telefono']}\")"
      ],
      "metadata": {
        "colab": {
          "base_uri": "https://localhost:8080/"
        },
        "id": "8lHc2dMUiOav",
        "outputId": "841debc6-7de2-4286-bbcb-6e3168497779"
      },
      "execution_count": 23,
      "outputs": [
        {
          "output_type": "stream",
          "name": "stdout",
          "text": [
            "¿Cual es tu nombre? julio\n",
            "¿Cuantos años tienes? 39\n",
            "¿Cual es tu telefono? 34534535\n",
            "Julio tienes 39 y tu telefono es 34534535\n"
          ]
        }
      ]
    },
    {
      "cell_type": "code",
      "source": [
        "#Escribir un programa que guarde en un diccionario los precios de las frutas de la tabla,\n",
        "#pregunte al usuario por una fruta, un número de kilos y muestre por pantalla el precio de ese número de kilos de fruta.\n",
        "#Si la fruta no está en el diccionario debe mostrar un mensaje informando de ello.\n",
        "precios_frutas = {'manzana':35,'platano':30,'pera':40,'naranja':15}\n",
        "fruta = input(\"¿que fruta quieres?\")\n",
        "kg = float(input(\"¿Cuantos kilos quieres?\"))\n",
        "if fruta not in precios_frutas:\n",
        "  print(\"No esta esa fruta\")\n",
        "\n",
        "else:\n",
        "  precio_unitario = precios_frutas[fruta]\n",
        "  total = precio_unitario * kg\n",
        "  print(f\"La {fruta} cuesta {precio_unitario} y por {kg} kilos pagaras {total} pesos.\")"
      ],
      "metadata": {
        "colab": {
          "base_uri": "https://localhost:8080/"
        },
        "id": "oJaWetuqrynP",
        "outputId": "481e1b55-71c4-478d-8209-e6186041ffe3"
      },
      "execution_count": 39,
      "outputs": [
        {
          "output_type": "stream",
          "name": "stdout",
          "text": [
            "¿que fruta quieres?guayaba\n",
            "¿Cuantos kilos quieres?89\n",
            "No esta esa fruta\n"
          ]
        }
      ]
    },
    {
      "cell_type": "code",
      "source": [
        "#Escribir un programa que pregunte una fecha en formato dd/mm/aaaa y\n",
        "#muestre por pantalla la misma fecha en formato dd de <mes> de aaaa donde <mes> es el nombre del mes.\n",
        "formato_meses = {1:'enero', 2:'febrero', 3:'marzo', 4:'abril', 5:'mayo', 6:'junio',\n",
        "                 7:'julio', 8:'agosto', 9:'septiembre', 10:'octubre', 11:'noviembre', 12:'diciembre'}\n",
        "fecha_nac = input(\"Escribe tu fecha de nacimiento en el siguiente formato dd/mm/aaaa/ \")\n",
        "fecha_nac = fecha_nac.split('/')\n",
        "print(f\"Tu fecha de nacimiento es {fecha_nac[0]}, del mes de {formato_meses[int(fecha_nac[1])]} el año {fecha_nac[2]}\")\n"
      ],
      "metadata": {
        "colab": {
          "base_uri": "https://localhost:8080/"
        },
        "id": "gxU8p8fD2BqA",
        "outputId": "7d01fc98-e9e2-4c31-fd3e-c337ff1c430b"
      },
      "execution_count": 44,
      "outputs": [
        {
          "output_type": "stream",
          "name": "stdout",
          "text": [
            "Escribe tu fecha de nacimiento en el siguiente formato dd/mm/aaaa/ 29/10/1984\n",
            "Tu fecha de nacimiento es 29, del mes de octubre el año 1984\n"
          ]
        }
      ]
    },
    {
      "cell_type": "code",
      "source": [
        "#Escribir un programa que almacene el diccionario con los créditos de las asignaturas de un curso\n",
        "#{'Matemáticas': 6, 'Física': 4, 'Química': 5} y después muestre por pantalla los créditos de cada asignatura\n",
        "# en el formato <asignatura> tiene <créditos> créditos,\n",
        "#donde <asignatura> es cada una de las asignaturas del curso,\n",
        "#y <créditos> son sus créditos. Al final debe mostrar también el número total de créditos del curso.\n",
        "asignaturas = {'Matemáticas': 6, 'Física': 4, 'Química': 5}\n",
        "total = 0\n",
        "for materia,creditos in asignaturas.items():\n",
        "\n",
        "  total += creditos\n",
        "  print(f\"La materia {materia} tiene {creditos} creditos.\")\n",
        "print(f\"Total de creditos {total}\")"
      ],
      "metadata": {
        "colab": {
          "base_uri": "https://localhost:8080/"
        },
        "id": "mKSIRqXHao9-",
        "outputId": "d37afecf-7b12-4761-a187-0e0b4f41fb6f"
      },
      "execution_count": 19,
      "outputs": [
        {
          "output_type": "stream",
          "name": "stdout",
          "text": [
            "La materia Matemáticas tiene 6 creditos.\n",
            "La materia Física tiene 4 creditos.\n",
            "La materia Química tiene 5 creditos.\n",
            "Total de creditos 15\n"
          ]
        }
      ]
    },
    {
      "cell_type": "code",
      "source": [
        "#Escribir un programa que cree un diccionario vacío y lo vaya llenado con información\n",
        "#sobre una persona (por ejemplo nombre, edad, sexo, teléfono, correo electrónico, etc.)\n",
        "#que se le pida al usuario. Cada vez que se añada un nuevo dato debe imprimirse el contenido del diccionario.\n",
        "datos_personales = {}\n",
        "nombre = input(\"Ingresa tu nombre. \")\n",
        "datos_personales[\"nombre\"] = nombre\n",
        "print(datos_personales)\n",
        "\n",
        "edad = input(\"Edad. \")\n",
        "datos_personales[\"edad\"] = edad\n",
        "print(datos_personales)\n",
        "\n",
        "sexo = input(\"Sexo \")\n",
        "datos_personales[\"sexo\"] = sexo\n",
        "print(datos_personales)\n",
        "\n",
        "telefono = input(\"agrega tu telefono. \")\n",
        "datos_personales[\"telefono\"] = telefono\n",
        "print(datos_personales)\n",
        "\n",
        "correo = input(\"Agrega tu e mail. \")\n",
        "datos_personales[\"correo\"] = correo\n",
        "print(datos_personales)\n"
      ],
      "metadata": {
        "colab": {
          "base_uri": "https://localhost:8080/"
        },
        "id": "i21JKPByguyU",
        "outputId": "720da771-b650-4fcc-87dc-fd0ffc6ff480"
      },
      "execution_count": 22,
      "outputs": [
        {
          "output_type": "stream",
          "name": "stdout",
          "text": [
            "Ingresa tu nombre. Julio\n",
            "{'nombre': 'Julio'}\n",
            "Edad. 39\n",
            "{'nombre': 'Julio', 'edad': '39'}\n",
            "Sexo m\n",
            "{'nombre': 'Julio', 'edad': '39', 'sexo': 'm'}\n",
            "agrega tu telefono. 595595959\n",
            "{'nombre': 'Julio', 'edad': '39', 'sexo': 'm', 'telefono': '595595959'}\n",
            "Agrega tu e mail. daosdimoasm\n",
            "{'nombre': 'Julio', 'edad': '39', 'sexo': 'm', 'telefono': '595595959', 'correo': 'daosdimoasm'}\n"
          ]
        }
      ]
    },
    {
      "cell_type": "code",
      "source": [
        "#Escribir un programa que cree un diccionario simulando una cesta de la compra.\n",
        "#El programa debe preguntar el artículo y su precio y añadir el par al diccionario,\n",
        "#hasta que el usuario decida terminar.\n",
        "#Después se debe mostrar por pantalla la lista de la compra y el coste total, con el siguiente formato.\n",
        "compras = {}\n",
        "continuar = True\n",
        "total = 0\n",
        "while continuar:\n",
        "  articulo = input(\"¿Que vas a comprar? \")\n",
        "  precio = float(input(\"¿Cuanto cuesta? \"))\n",
        "  compras[articulo] = precio\n",
        "\n",
        "  respuesta = input(\"Deseas agregar mas fruta si/no. \").lower()\n",
        "  if respuesta != \"si\":\n",
        "    continuar = False\n",
        "print(\"Frutas y precios finales.\")\n",
        "for articulo,precio in compras.items():\n",
        "  total += precio\n",
        "  print(articulo,precio)\n",
        "print(f\"Pago total {total}\")"
      ],
      "metadata": {
        "colab": {
          "base_uri": "https://localhost:8080/"
        },
        "id": "K9auF0WBuHh5",
        "outputId": "8fca8a68-3990-4700-913a-f7eab3092a72"
      },
      "execution_count": 33,
      "outputs": [
        {
          "output_type": "stream",
          "name": "stdout",
          "text": [
            "¿Que vas a comprar? cafe\n",
            "¿Cuanto cuesta? 85\n",
            "Deseas agregar mas fruta si/no. si\n",
            "¿Que vas a comprar? disco\n",
            "¿Cuanto cuesta? 34\n",
            "Deseas agregar mas fruta si/no. si\n",
            "¿Que vas a comprar? velas\n",
            "¿Cuanto cuesta? 10\n",
            "Deseas agregar mas fruta si/no. no\n",
            "Frutas y precios finales.\n",
            "cafe 85.0\n",
            "disco 34.0\n",
            "velas 10.0\n",
            "Pago total 129.0\n"
          ]
        }
      ]
    },
    {
      "cell_type": "code",
      "source": [
        "traduccion = {}\n",
        "palabras = input(\"Ingresa las palabras en el siguiente formato español:ingles separada por , comas. \")\n",
        "for l in palabras.split(','):\n",
        "  clave,valor = l.split(':')\n",
        "  traduccion[clave] = valor\n",
        "frase = input(\"Escribe una frase.\")\n",
        "for l in frase.split():\n",
        "  if l in traduccion:\n",
        "    print(traduccion[l],end=' ')\n",
        "  else:\n",
        "    print(l,end=' ')\n"
      ],
      "metadata": {
        "colab": {
          "base_uri": "https://localhost:8080/"
        },
        "id": "NQ0KoaXE7cEx",
        "outputId": "157cb8fe-c2f0-476f-8e3d-1c5e22142fbc"
      },
      "execution_count": 36,
      "outputs": [
        {
          "output_type": "stream",
          "name": "stdout",
          "text": [
            "Ingresa las palabras en el siguiente formato español:ingles separada por , comas. casa:house,perro:dog\n",
            "Escribe una frase.mi casa con mi perro\n",
            "mi house con mi dog "
          ]
        }
      ]
    },
    {
      "cell_type": "code",
      "source": [
        "#Escribir un programa que gestione las facturas pendientes de cobro de una empresa.\n",
        "#Las facturas se almacenarán en un diccionario donde la clave de cada factura será el número de factura y el valor el coste de la factura.\n",
        "#El programa debe preguntar al usuario si quiere añadir una nueva factura, pagar una existente o terminar.\n",
        "#Si desea añadir una nueva factura se preguntará por el número de factura y su coste y se añadirá al diccionario.\n",
        "#Si se desea pagar una factura se preguntará por el número de factura y se eliminará del diccionario.\n",
        "#Después de cada operación el programa debe mostrar por pantalla la cantidad cobrada hasta el momento y la cantidad pendiente de cobro.\n",
        "\n",
        "facturas = {}\n",
        "total_cobrado = 0\n",
        "while True:\n",
        "  print(\"\\nMenu.\")\n",
        "  print(\"Agregar factura 1. \")\n",
        "  print(\"Pagar factura 2. \")\n",
        "  print(\"Terminar 3. \")\n",
        "  seleccion = input(\"Selecciona la opcion deseada ( 1 , 2 , 3).\")\n",
        "  if seleccion == \"1\":\n",
        "    factura_nueva = input(\"Ingresa una factura nueva. \")\n",
        "    coste = float(input(\"Ingresa el costo de la factura. \"))\n",
        "    facturas[factura_nueva] = coste\n",
        "    print(f\"Factura nueva {factura_nueva} añadida.\")\n",
        "  elif seleccion == \"2\":\n",
        "    factura_nueva = input(\"Ingresa el numero de factura a pagar. \")\n",
        "    if factura_nueva in facturas:\n",
        "      total_cobrado += facturas[factura_nueva]\n",
        "      del facturas[factura_nueva]\n",
        "      print(f\"Factura {factura_nueva} pagada.\")\n",
        "    else:\n",
        "      print(\"Factura no encontrada.\")\n",
        "  elif seleccion == \"3\":\n",
        "    break\n",
        "  else:\n",
        "    (\"Print opcion no valida seleciona 1 , 2 , 3.\")\n",
        "\n",
        "  cantidad_pendiente = sum(facturas.values())\n",
        "  print(f\"Total cobrado: {total_cobrado}\")\n",
        "  print(f\"Total cantidad pendiente: {cantidad_pendiente}\")"
      ],
      "metadata": {
        "colab": {
          "base_uri": "https://localhost:8080/"
        },
        "id": "X47RyE8ZAr14",
        "outputId": "2f8a223f-545f-4797-b106-fbec76b80596"
      },
      "execution_count": 3,
      "outputs": [
        {
          "name": "stdout",
          "output_type": "stream",
          "text": [
            "\n",
            "Menu.\n",
            "Agregar factura 1. \n",
            "Pagar factura 2. \n",
            "Terminar 3. \n",
            "Selecciona la opcion deseada ( 1 , 2 , 3).1\n",
            "Ingresa una factura nueva. 1\n",
            "Ingresa el costo de la factura. 5000\n",
            "Factura nueva 1 añadida.\n",
            "Total cobrado: 0\n",
            "Total cantidad pendiente: 5000.0\n",
            "\n",
            "Menu.\n",
            "Agregar factura 1. \n",
            "Pagar factura 2. \n",
            "Terminar 3. \n",
            "Selecciona la opcion deseada ( 1 , 2 , 3).1\n",
            "Ingresa una factura nueva. 2\n",
            "Ingresa el costo de la factura. 80000\n",
            "Factura nueva 2 añadida.\n",
            "Total cobrado: 0\n",
            "Total cantidad pendiente: 85000.0\n",
            "\n",
            "Menu.\n",
            "Agregar factura 1. \n",
            "Pagar factura 2. \n",
            "Terminar 3. \n",
            "Selecciona la opcion deseada ( 1 , 2 , 3).1\n",
            "Ingresa una factura nueva. 3\n",
            "Ingresa el costo de la factura. 4500.89\n",
            "Factura nueva 3 añadida.\n",
            "Total cobrado: 0\n",
            "Total cantidad pendiente: 89500.89\n",
            "\n",
            "Menu.\n",
            "Agregar factura 1. \n",
            "Pagar factura 2. \n",
            "Terminar 3. \n",
            "Selecciona la opcion deseada ( 1 , 2 , 3).2\n",
            "Ingresa el numero de factura a pagar. 2\n",
            "Factura 2 pagada.\n",
            "Total cobrado: 80000.0\n",
            "Total cantidad pendiente: 9500.89\n",
            "\n",
            "Menu.\n",
            "Agregar factura 1. \n",
            "Pagar factura 2. \n",
            "Terminar 3. \n",
            "Selecciona la opcion deseada ( 1 , 2 , 3).3\n"
          ]
        }
      ]
    }
  ]
}