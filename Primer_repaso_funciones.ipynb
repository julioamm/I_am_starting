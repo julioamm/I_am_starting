{
  "nbformat": 4,
  "nbformat_minor": 0,
  "metadata": {
    "colab": {
      "provenance": [],
      "authorship_tag": "ABX9TyO/fQi20vBhMp1p+L37/FBh",
      "include_colab_link": true
    },
    "kernelspec": {
      "name": "python3",
      "display_name": "Python 3"
    },
    "language_info": {
      "name": "python"
    }
  },
  "cells": [
    {
      "cell_type": "markdown",
      "metadata": {
        "id": "view-in-github",
        "colab_type": "text"
      },
      "source": [
        "<a href=\"https://colab.research.google.com/github/julioamm/I_am_starting/blob/main/Primer_repaso_funciones.ipynb\" target=\"_parent\"><img src=\"https://colab.research.google.com/assets/colab-badge.svg\" alt=\"Open In Colab\"/></a>"
      ]
    },
    {
      "cell_type": "code",
      "execution_count": null,
      "metadata": {
        "colab": {
          "base_uri": "https://localhost:8080/"
        },
        "id": "0Yuz70QQ_bKR",
        "outputId": "fa1ed367-bf1a-4b3c-d052-bb3a006ee637"
      },
      "outputs": [
        {
          "output_type": "stream",
          "name": "stdout",
          "text": [
            "!Hola amiga¡\n"
          ]
        }
      ],
      "source": [
        "#Escribir una función que muestre por pantalla el saludo ¡Hola amiga! cada vez que se la invoque.\n",
        "def hola_amiga():\n",
        "  print(\"!Hola amiga¡\")\n",
        "hola_amiga()\n",
        "\n"
      ]
    },
    {
      "cell_type": "code",
      "source": [
        "#Escribir una función a la que se le pase una cadena <nombre> y muestre por pantalla el saludo ¡hola <nombre>!.\n",
        "def hola(nombre):\n",
        "  print(\"¡Hola \" + nombre + \"!\")\n",
        "hola(\"Julio\")"
      ],
      "metadata": {
        "colab": {
          "base_uri": "https://localhost:8080/"
        },
        "id": "-epdBhlUStnp",
        "outputId": "08119f9b-eafb-4f57-fa94-ba25a4d236e4"
      },
      "execution_count": null,
      "outputs": [
        {
          "output_type": "stream",
          "name": "stdout",
          "text": [
            "¡Hola Julio!\n"
          ]
        }
      ]
    },
    {
      "cell_type": "code",
      "source": [
        "#Escribir una función que reciba un número entero positivo y devuelva su factorial.\n",
        "def factorial_de(numero):\n",
        "  if numero == 0:\n",
        "    return 1\n",
        "  else:\n",
        "    resultado = 1\n",
        "    for n in range(1,numero+1):\n",
        "      resultado *= n\n",
        "  return resultado\n",
        "print(factorial_de(10))"
      ],
      "metadata": {
        "colab": {
          "base_uri": "https://localhost:8080/"
        },
        "id": "jUD3sAi1T8NE",
        "outputId": "f7edbf7f-f15b-4802-d956-22479123091b"
      },
      "execution_count": null,
      "outputs": [
        {
          "output_type": "stream",
          "name": "stdout",
          "text": [
            "3628800\n"
          ]
        }
      ]
    },
    {
      "cell_type": "code",
      "source": [
        "#Escribir una función que calcule el total de una factura tras aplicarle el IVA.\n",
        "#La función debe recibir la cantidad sin IVA y el porcentaje de IVA a aplicar,\n",
        "#y devolver el total de la factura. Si se invoca la función sin pasarle el\n",
        "#porcentaje de IVA, deberá aplicar un 21%.\n",
        "def total_mas_iva(total,iva=16):\n",
        "  total = float(input(\"¿Cuanto sera de la cuenta?\"))\n",
        "  return(float(total+(total*iva/100)))\n",
        "print(f\"La cantidad a pagar es ${total_mas_iva(345335)}\")"
      ],
      "metadata": {
        "colab": {
          "base_uri": "https://localhost:8080/"
        },
        "id": "OVjOvShEbWQ0",
        "outputId": "2d2dfb8e-1ff1-45b6-bf91-019ea0f94612"
      },
      "execution_count": null,
      "outputs": [
        {
          "output_type": "stream",
          "name": "stdout",
          "text": [
            "¿Cuanto sera de la cuenta?4000\n",
            "La cantidad a pagar es $4640.0\n"
          ]
        }
      ]
    },
    {
      "cell_type": "code",
      "source": [
        "#Escribir una función que calcule el área de un círculo y otra que calcule el volumen de un cilindro usando la primera función.\n",
        "import math\n",
        "pi = math.pi\n",
        "def area_circulo(radio):\n",
        "  return pi * (radio ** 2)\n",
        "\n",
        "\n",
        "def volumen_cilindro(radio,altura_cilindro):\n",
        "  area_base = area_circulo(radio)\n",
        "  volumen = area_base * altura_cilindro\n",
        "  return volumen\n",
        "\n",
        "radio = 10\n",
        "altura_cilindro = 30\n",
        "\n",
        "area_del_circulo = area_circulo(radio)\n",
        "volumen_del_cilindro = volumen_cilindro(radio,altura_cilindro)\n",
        "\n",
        "print(area_del_circulo)\n",
        "print(volumen_del_cilindro)"
      ],
      "metadata": {
        "colab": {
          "base_uri": "https://localhost:8080/"
        },
        "id": "C9bumX8GiUOA",
        "outputId": "3fc811c7-2225-41c2-8086-4ef46ff7270c"
      },
      "execution_count": null,
      "outputs": [
        {
          "output_type": "stream",
          "name": "stdout",
          "text": [
            "314.1592653589793\n",
            "9424.77796076938\n"
          ]
        }
      ]
    },
    {
      "cell_type": "code",
      "source": [
        "#Escribir una función que reciba una muestra de números en una lista y devuelva otra lista con sus cuadrados.\n",
        "def calcular_cuadrados(lista_numeros):\n",
        "  lista_cuadrados = []\n",
        "  for i in lista_numeros:\n",
        "    cuadrado = i**2\n",
        "    lista_cuadrados.append(cuadrado)\n",
        "  return lista_cuadrados\n",
        "numeros = [1,2,3,4,5]\n",
        "cuadrados = calcular_cuadrados(numeros)\n",
        "print(cuadrados)\n",
        "\n"
      ],
      "metadata": {
        "colab": {
          "base_uri": "https://localhost:8080/"
        },
        "id": "wbgfIH8X67H2",
        "outputId": "4acfcc4b-acbf-4bbe-9f06-492065d3a803"
      },
      "execution_count": null,
      "outputs": [
        {
          "output_type": "stream",
          "name": "stdout",
          "text": [
            "[1, 4, 9, 16, 25]\n"
          ]
        }
      ]
    },
    {
      "cell_type": "code",
      "source": [
        "from random import randint\n",
        "# Definir las funciones para lanzar los dados y evaluar la jugada\n",
        "def lanzar_dados():\n",
        "    dado1 = randint(1, 6)\n",
        "    dado2 = randint(1, 6)\n",
        "    return dado1, dado2\n",
        "\n",
        "def evaluar_jugada(dado1,dado2):\n",
        "    suma_dados = dado1 + dado2\n",
        "    if suma_dados <= 6:\n",
        "        print(f\"La suma de tus dados es {suma_dados}. Lamentable\")\n",
        "    elif suma_dados > 6 and suma_dados < 10:\n",
        "        print(f\"La suma de tus dados es {suma_dados}. Tienes buenas chances\")\n",
        "    elif suma_dados >= 10:\n",
        "        print(f\"La suma de tus dados es {suma_dados}. Parece una jugada ganadora\")\n",
        "dado1, dado2 = lanzar_dados()\n",
        "evaluar_jugada(dado1,dado2)\n"
      ],
      "metadata": {
        "colab": {
          "base_uri": "https://localhost:8080/"
        },
        "id": "gya_GrRAUzap",
        "outputId": "e6c5c41c-1568-4158-9cb1-7a8ab61455ac"
      },
      "execution_count": null,
      "outputs": [
        {
          "output_type": "stream",
          "name": "stdout",
          "text": [
            "La suma de tus dados es 6. Lamentable\n"
          ]
        }
      ]
    },
    {
      "cell_type": "code",
      "source": [
        "import random\n",
        "def lanzar_moneda():\n",
        "  resultado = {1 : \"Cara\",2 : \"Cruz\"}\n",
        "  lanzamiento = random.randint(1,2)\n",
        "  return resultado[lanzamiento]\n",
        "resultado_lanzamiento = lanzar_moneda()\n",
        "print(resultado_lanzamiento)\n",
        "\n",
        "def probar_suerte():\n",
        "\n",
        "  lista = [1,2,3,4,5,6]\n",
        "  if resultado_lanzamiento == \"Cara\":\n",
        "    lista.clear()\n",
        "    print(\"La lista se autodestruira.\")\n",
        "    print(lista)\n",
        "  else:\n",
        "    print(\"Lista intacta.\")\n",
        "    print(lista)\n",
        "probar_suerte()"
      ],
      "metadata": {
        "colab": {
          "base_uri": "https://localhost:8080/"
        },
        "id": "PwR3OAJJUmbD",
        "outputId": "39ecd323-e9dc-4399-e80c-29be3d1cc503"
      },
      "execution_count": 39,
      "outputs": [
        {
          "output_type": "stream",
          "name": "stdout",
          "text": [
            "Cara\n",
            "La lista se autodestruira.\n",
            "[]\n"
          ]
        }
      ]
    }
  ]
}