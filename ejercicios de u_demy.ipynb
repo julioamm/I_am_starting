{
  "nbformat": 4,
  "nbformat_minor": 0,
  "metadata": {
    "colab": {
      "provenance": [],
      "authorship_tag": "ABX9TyN2bQo3LxhgJXGc4iS3S5GK",
      "include_colab_link": true
    },
    "kernelspec": {
      "name": "python3",
      "display_name": "Python 3"
    },
    "language_info": {
      "name": "python"
    }
  },
  "cells": [
    {
      "cell_type": "markdown",
      "metadata": {
        "id": "view-in-github",
        "colab_type": "text"
      },
      "source": [
        "<a href=\"https://colab.research.google.com/github/julioamm/I_am_starting/blob/main/ejercicios%20de%20u_demy.ipynb\" target=\"_parent\"><img src=\"https://colab.research.google.com/assets/colab-badge.svg\" alt=\"Open In Colab\"/></a>"
      ]
    },
    {
      "cell_type": "code",
      "execution_count": null,
      "metadata": {
        "colab": {
          "base_uri": "https://localhost:8080/"
        },
        "id": "C3jmi_2e-KsZ",
        "outputId": "c915fd48-1980-4e54-da77-cf4550f34eba"
      },
      "outputs": [
        {
          "output_type": "stream",
          "name": "stdout",
          "text": [
            "Linea 1\n",
            "Linea 2\n",
            "Linea 3\n"
          ]
        }
      ],
      "source": [
        "print(\"Linea 1\\nLinea 2\\nLinea 3\")"
      ]
    },
    {
      "cell_type": "code",
      "source": [],
      "metadata": {
        "id": "ov_6BD9HtuuW"
      },
      "execution_count": null,
      "outputs": []
    },
    {
      "cell_type": "code",
      "source": [
        "print(\"A\\tB\\tC\\nD\\tE\\tF\\nG\\tH\\tI\")"
      ],
      "metadata": {
        "colab": {
          "base_uri": "https://localhost:8080/"
        },
        "id": "yUfg7WuHEX1e",
        "outputId": "3ad6f4dd-e44a-4431-eb7d-109c914a955d"
      },
      "execution_count": null,
      "outputs": [
        {
          "output_type": "stream",
          "name": "stdout",
          "text": [
            "A\tB\tC\n",
            "D\tE\tF\n",
            "G\tH\tI\n"
          ]
        }
      ]
    },
    {
      "cell_type": "code",
      "source": [
        "print(\"Normal: /\")\n",
        "print(\"Invertida: \\\\\")"
      ],
      "metadata": {
        "colab": {
          "base_uri": "https://localhost:8080/"
        },
        "id": "-u80Prv0FCUS",
        "outputId": "8984bfe3-2fdf-4da0-d529-0a952520bd79"
      },
      "execution_count": null,
      "outputs": [
        {
          "output_type": "stream",
          "name": "stdout",
          "text": [
            "Normal: /\n",
            "Invertida: \\\n"
          ]
        }
      ]
    },
    {
      "cell_type": "code",
      "source": [
        "print(\"¿Que estas estudiando? \"+ input(\"Escribe tu carrera \"))\n",
        "print(\"En que pais vives? \"+ input(\"esccribe tu pais de nacimiento \"))"
      ],
      "metadata": {
        "colab": {
          "base_uri": "https://localhost:8080/"
        },
        "id": "uacj4LOQIqhN",
        "outputId": "be02658c-d7ba-4ae9-c6e8-2bb400bcf41b"
      },
      "execution_count": null,
      "outputs": [
        {
          "output_type": "stream",
          "name": "stdout",
          "text": [
            "Escribe tu carrera ingenieria\n",
            "¿Que estas estudiando? ingenieria\n",
            "esccribe tu pais de nacimiento mexico\n",
            "En que pais vives? mexico\n"
          ]
        }
      ]
    },
    {
      "cell_type": "code",
      "source": [
        "print(\"Escribe tu nombre: \" + input(\"nombre \"))\n",
        "print(\"Escribe tu apellido: \" + input(\"apellido \"))"
      ],
      "metadata": {
        "colab": {
          "base_uri": "https://localhost:8080/"
        },
        "id": "cGaY7LfPJsl-",
        "outputId": "196fd4e4-cf43-4012-999c-aa8320ff12b4"
      },
      "execution_count": null,
      "outputs": [
        {
          "output_type": "stream",
          "name": "stdout",
          "text": [
            "nombre julio\n",
            "Escribe tu nombre: julio\n",
            "apellido muñoz\n",
            "Escribe tu apellido: muñoz\n"
          ]
        }
      ]
    },
    {
      "cell_type": "code",
      "source": [
        "print(\"Hoy bautizaremos tu cerveza!!\")\n",
        "print(\"el nombre de tu cerveza es: \")\n",
        "\n",
        "print(\"´\" + input(\"¿apodo? \") +\" \"+ input(\"¿dia de la semana? \") +\" \"+ input(\"¿adjetivo calificativo? \")+\"´\")\n",
        "print(\"Felicidades\")"
      ],
      "metadata": {
        "colab": {
          "base_uri": "https://localhost:8080/"
        },
        "id": "1gKE5B1CK0qt",
        "outputId": "3cbc7f69-2e50-45ed-9bdc-68945fc9baa3"
      },
      "execution_count": null,
      "outputs": [
        {
          "output_type": "stream",
          "name": "stdout",
          "text": [
            "Hoy bautizaremos tu cerveza!!\n",
            "el nombre de tu cerveza es: \n",
            "¿apodo? La liga\n",
            "¿dia de la semana? miercoles\n",
            "¿adjetivo calificativo? bueno\n",
            "´La liga miercoles bueno´\n",
            "Felicidades\n"
          ]
        }
      ]
    },
    {
      "cell_type": "code",
      "source": [
        "vendedor1 = float(input(\"ventas 1 \"))\n",
        "vendedor2 = float(input(\"ventas 2 \"))\n",
        "vendedor3 = float(input(\"ventas 3 \"))\n",
        "comision1 = round(vendedor1 * 0.13,2)\n",
        "comision2 = round(vendedor2 * 0.13,2)\n",
        "comision3 = round(vendedor3 * 0.13,2)\n",
        "print(\"Calcula la comision del vendedor del 13 % de lo que vendio\")\n",
        "print(f\"Las comisiones son:\\n para el primer vendedor: ${comision1} \\n para el segundo vendedor ${comision2} \\n para el tercer ${comision3} \")\n"
      ],
      "metadata": {
        "colab": {
          "base_uri": "https://localhost:8080/"
        },
        "id": "awpCIoLCnBWS",
        "outputId": "dd62c931-1a00-4a03-a2cd-156bde4e0cc5"
      },
      "execution_count": null,
      "outputs": [
        {
          "output_type": "stream",
          "name": "stdout",
          "text": [
            "ventas 1 5000\n",
            "ventas 2 3000\n",
            "ventas 3 1222\n",
            "Calcula la comision del vendedor del 13 % de lo que vendio\n",
            "Las comisiones son:\n",
            " para el primer vendedor: $650.0 \n",
            " para el segundo vendedor $390.0 \n",
            " para el tercer $158.86 \n"
          ]
        }
      ]
    },
    {
      "cell_type": "code",
      "source": [],
      "metadata": {
        "id": "S1PTEXD5plAu"
      },
      "execution_count": null,
      "outputs": []
    },
    {
      "cell_type": "code",
      "source": [
        "\n",
        "#Primera parte def de variables\n",
        "texto = input(\"Introduce un texto y/o frase, descubriremos ciertas cosas de el saludos. \\n\")\n",
        "texto = texto.lower()\n",
        "texto1_1 = texto.split()\n",
        "letra1 = input(\"Introduce una letra: \" ).lower()\n",
        "letra2 = input(\"Introduce una letra: \" ).lower()\n",
        "letra3 = input(\"Introduce una letra: \" ).lower()\n",
        "letras = letra1,letra2,letra3\n",
        "py = \"Python\".lower()\n",
        "print(\"Tus 3 letras son: \",letras)\n",
        "\n",
        "#Cuantas veces aparecen las letras en el texto\n",
        "print(\"cuantas veces aparecen las letras en el texto?\")\n",
        "print(letra1, texto.count(letra1))\n",
        "print(letra2, texto.count(letra2))\n",
        "print(letra3, texto.count(letra3))\n",
        "\n",
        "\n",
        "#Cuantas palabras hay en total\n",
        "print(\"El texto tiene esta cantidad de palabras: \")\n",
        "print(len(texto1_1))\n",
        "#Primer y ultima letra\n",
        "print(\"La primera letra es: \")\n",
        "print(texto[0])\n",
        "print(\"La ultima letra es: \")\n",
        "print(texto[-2])\n",
        "#palabras en orden inveerso\n",
        "print(\"Texto en orden inverso\")\n",
        "print(texto[::-1])\n",
        "#aparece \"python\"\n",
        "print(\"Aparece Python en el texto?\")\n",
        "print(py in texto)\n",
        "\n"
      ],
      "metadata": {
        "id": "egMXo1XUdovu",
        "colab": {
          "base_uri": "https://localhost:8080/"
        },
        "outputId": "4dfb2ee7-5c95-4b1e-8800-9c1a555ef312"
      },
      "execution_count": null,
      "outputs": [
        {
          "output_type": "stream",
          "name": "stdout",
          "text": [
            "Introduce un texto y/o frase, descubriremos ciertas cosas de el saludos. \n",
            "estoy estudiando ingles.\n",
            "Introduce una letra: a\n",
            "Introduce una letra: b\n",
            "Introduce una letra: c\n",
            "Tus 3 letras son:  ('a', 'b', 'c')\n",
            "cuantas veces aparecen las letras en el texto?\n",
            "a 1\n",
            "b 0\n",
            "c 0\n",
            "El texto tiene esta cantidad de palabras: \n",
            "3\n",
            "La primera letra es: \n",
            "e\n",
            "La ultima letra es: \n",
            "s\n",
            "Texto en orden inverso\n",
            ".selgni odnaidutse yotse\n",
            "Aparece Python en el texto?\n",
            "False\n"
          ]
        }
      ]
    },
    {
      "cell_type": "code",
      "source": [
        "num1 = int(input(\"Ingresa un número:\"))\n",
        "num2 = int(input(\"Ingresa otro número:\"))\n",
        "if num1 >  num2:\n",
        "    print(f\"{num1} es mayor que {num2}\")\n",
        "elif num2 > num1:\n",
        "    print(f\"{num2} es mayor que {num1}\")\n",
        "else:\n",
        "    print(f\"{num1} y {num2} son iguales\")"
      ],
      "metadata": {
        "colab": {
          "base_uri": "https://localhost:8080/"
        },
        "id": "eCm1LOC007lL",
        "outputId": "4d32e5e9-e3a7-4bbc-9799-3ab0e01fb938"
      },
      "execution_count": null,
      "outputs": [
        {
          "output_type": "stream",
          "name": "stdout",
          "text": [
            "Ingresa un número:324\n",
            "Ingresa otro número:5756\n",
            "5756 es mayor que 324\n"
          ]
        }
      ]
    },
    {
      "cell_type": "code",
      "source": [
        "edad = 16\n",
        "tiene_licencia = False\n",
        "if tiene_licencia != False:\n",
        "    print(\"Puedes conducir\")\n",
        "elif edad <= 18:\n",
        "    print(\"No puedes conducir aún. Debes tener 18 años y contar con una licencia\")\n",
        "elif tiene_licencia == False:\n",
        "    print(\"No puedes conducir. Necesitas contar con una licencia\")"
      ],
      "metadata": {
        "id": "Hs0Hq4Ej3w_a"
      },
      "execution_count": null,
      "outputs": []
    },
    {
      "cell_type": "code",
      "source": [
        "habla_ingles = True\n",
        "sabe_python = False\n",
        "if habla_ingles == True and sabe_python != False:\n",
        "    print(\"Cumples con los requisitos para postularte\")\n",
        "elif habla_ingles != True and sabe_python == False:\n",
        "    print(\"Para postularte, necesitas saber programar en Python y tener conocimientos de inglés\")\n",
        "elif habla_ingles != True:\n",
        "    print(\"Para postularte, necesitas tener conocimientos de inglés\")\n",
        "elif sabe_python == False:\n",
        "        print(\"Para postularte, necesitas saber programar en Python\")\n"
      ],
      "metadata": {
        "id": "WLOw91tJ5nPA"
      },
      "execution_count": null,
      "outputs": []
    },
    {
      "cell_type": "code",
      "source": [
        "lista_numeros = [1,5,8,7,6,8,2,5,2,6,4,8,5,9,8,3,5,4,2,5,6,4]\n",
        "suma_pares = 0\n",
        "suma_impares = 0\n",
        "for numero in lista_numeros:\n",
        "    if numero % 2 == 0:\n",
        "        suma_pares = suma_pares + numero\n",
        "        print(suma_pares)\n",
        "    if numero % 2 != 0:\n",
        "        suma_impares = suma_impares + numero\n",
        "        print(suma_impares)"
      ],
      "metadata": {
        "colab": {
          "base_uri": "https://localhost:8080/"
        },
        "id": "dUCb7SXsb23P",
        "outputId": "13a06e56-7ac3-4f2f-c229-2b02336cac5e"
      },
      "execution_count": null,
      "outputs": [
        {
          "output_type": "stream",
          "name": "stdout",
          "text": [
            "1\n",
            "6\n",
            "8\n",
            "13\n",
            "14\n",
            "22\n",
            "24\n",
            "18\n",
            "26\n",
            "32\n",
            "36\n",
            "44\n",
            "23\n",
            "32\n",
            "52\n",
            "35\n",
            "40\n",
            "56\n",
            "58\n",
            "45\n",
            "64\n",
            "68\n"
          ]
        }
      ]
    },
    {
      "cell_type": "code",
      "source": [
        "monedas = 5\n",
        "while monedas > 0 :\n",
        "  print(f\"tengo {monedas} monedas\")"
      ],
      "metadata": {
        "id": "mrMIYWHWfhgE"
      },
      "execution_count": null,
      "outputs": []
    },
    {
      "cell_type": "code",
      "source": [
        "numero = 10\n",
        "while numero > 0:\n",
        "  print(numero)\n",
        "numero = numero - 1"
      ],
      "metadata": {
        "id": "mJd1Q7Ogtycf"
      },
      "execution_count": null,
      "outputs": []
    },
    {
      "cell_type": "code",
      "source": [
        "lista1 = [\"uno\" , \"um\" , \"one\"]\n",
        "lista2 = [\"dos\" , \"dois\" , \"two\"]\n",
        "lista3 = [\"tres\" , \"três\" , \"three\"]\n",
        "lista4 = [\"cuatro\" , \"quatro\" , \"four\"]\n",
        "lista5 = [\"cinco\" , \"cinco\" , \"five\"]\n",
        "numeros= list(zip(lista1,lista2,lista3,lista4,lista5))\n",
        "for lista in numeros:\n",
        "    print"
      ],
      "metadata": {
        "id": "upK8OWNBy99N",
        "outputId": "b79a5b82-540e-4474-c669-30eb8d11322a",
        "colab": {
          "base_uri": "https://localhost:8080/",
          "height": 140
        }
      },
      "execution_count": null,
      "outputs": [
        {
          "output_type": "error",
          "ename": "SyntaxError",
          "evalue": "ignored",
          "traceback": [
            "\u001b[0;36m  File \u001b[0;32m\"<ipython-input-1-68114ef1ac23>\"\u001b[0;36m, line \u001b[0;32m1\u001b[0m\n\u001b[0;31m    mi_lista = list(range(2500,2586)\u001b[0m\n\u001b[0m                                    ^\u001b[0m\n\u001b[0;31mSyntaxError\u001b[0m\u001b[0;31m:\u001b[0m incomplete input\n"
          ]
        }
      ]
    },
    {
      "cell_type": "code",
      "source": [
        "from random import randint\n",
        "intentos = 0\n",
        "num_usuario = 0\n",
        "nombre = input(\"Hola ¿Cual es tu nombre? \")\n",
        "num_random = randint(1,100)\n",
        "print(f\"Este es un juego de numeros aleatorios, \\ntendras 8 intentos para adivinar el numero que he pensado \\ndel 1 al 100. {nombre}, juguemos!!!\")\n",
        "while intentos < 8:\n",
        "  num_usuario = int(input(\"Escribe un numero del 1 al 100: \"))\n",
        "  intentos += 1\n",
        "  if num_usuario not in range(1,100):\n",
        "    print(\"Tu numero no esta entre 1 y 100\")\n",
        "  elif num_usuario > num_random:\n",
        "    print(\"el numero es menor\")\n",
        "  elif num_usuario < num_random:\n",
        "    print(\"el numero es mayor\")\n",
        "  elif num_usuario == num_random:\n",
        "    print(f\"QUE BIEN ADIVINASTE!! en {intentos} intentos.\")\n",
        "    break\n",
        "if num_random != num_usuario:\n",
        "  print(f\"Fallaste el numero secreto era {num_random}\")\n",
        "\n",
        "\n"
      ],
      "metadata": {
        "colab": {
          "base_uri": "https://localhost:8080/"
        },
        "id": "Ak28PTXnPg0Y",
        "outputId": "b21e9b27-de0a-4f64-bf60-a1cfc94d233a"
      },
      "execution_count": null,
      "outputs": [
        {
          "output_type": "stream",
          "name": "stdout",
          "text": [
            "Hola ¿Cual es tu nombre? Julio\n",
            "Este es un juego de numeros aleatorios, \n",
            "tendras 8 intentos para adivinar el numero que he pensado \n",
            "del 1 al 100. Julio, juguemos!!!\n",
            "Escribe un numero del 1 al 100: 50\n",
            "el numero es mayor\n",
            "Escribe un numero del 1 al 100: 75\n",
            "el numero es menor\n",
            "Escribe un numero del 1 al 100: 60\n",
            "el numero es mayor\n",
            "Escribe un numero del 1 al 100: 65\n",
            "el numero es mayor\n",
            "Escribe un numero del 1 al 100: 67\n",
            "el numero es mayor\n",
            "Escribe un numero del 1 al 100: 68\n",
            "el numero es mayor\n",
            "Escribe un numero del 1 al 100: 69\n",
            "QUE BIEN ADIVINASTE!! en 7 intentos.\n"
          ]
        }
      ]
    },
    {
      "cell_type": "code",
      "source": [
        "from random import randint\n",
        "\n",
        "# Definir las funciones para lanzar los dados y evaluar la jugada\n",
        "def lanzar_dados():\n",
        "    dado1 = randint(1, 6)\n",
        "    dado2 = randint(1, 6)\n",
        "    return dado1, dado2\n",
        "\n",
        "def evaluar_jugada(dado1, dado2):\n",
        "    suma_dados = dado1 + dado2\n",
        "    if suma_dados <= 6:\n",
        "        print(f\"La suma de tus dados es {suma_dados}. Lamentable\")\n",
        "    elif suma_dados > 6 and suma_dados < 10:\n",
        "        print(f\"La suma de tus dados es {suma_dados}. Tienes buenas chances\")\n",
        "    elif suma_dados >= 10:\n",
        "        print(f\"La suma de tus dados es {suma_dados}. Parece una jugada ganadora\")\n",
        "\n",
        "# Lanzar los dados y obtener los valores\n",
        "dado1, dado2 = lanzar_dados()\n",
        "\n",
        "# Evaluar la jugada con los valores obtenidos\n",
        "evaluar_jugada(dado1, dado2)\n"
      ],
      "metadata": {
        "colab": {
          "base_uri": "https://localhost:8080/"
        },
        "id": "OM1G0QSsyzU-",
        "outputId": "82b1de07-82f2-4692-8a1f-f4ac231ea5b8"
      },
      "execution_count": null,
      "outputs": [
        {
          "output_type": "stream",
          "name": "stdout",
          "text": [
            "La suma de tus dados es 8. Tienes buenas chances\n"
          ]
        }
      ]
    },
    {
      "cell_type": "code",
      "source": [
        "def suma_cuadrados(*args):\n",
        "    total = 0\n",
        "    for arg in args:\n",
        "        cuadrado = arg ** 2\n",
        "        total += cuadrado\n",
        "    return total\n",
        "\n",
        "print(suma_cuadrados(1,2,3))"
      ],
      "metadata": {
        "colab": {
          "base_uri": "https://localhost:8080/"
        },
        "id": "ZKvGemrygNWq",
        "outputId": "32037391-6638-4f29-c937-781e4221267d"
      },
      "execution_count": null,
      "outputs": [
        {
          "output_type": "stream",
          "name": "stdout",
          "text": [
            "14\n"
          ]
        }
      ]
    },
    {
      "cell_type": "code",
      "source": [
        "import random\n",
        "def lanzar_moneda():\n",
        "  resultado = {1 : \"Cara\",2 : \"Cruz\"}\n",
        "  lanzamiento = random.randint(1,2)\n",
        "  return resultado[lanzamiento]\n",
        "resultado_lanzamiento = lanzar_moneda()\n",
        "print(resultado_lanzamiento)\n",
        "\n",
        "def probar_suerte():\n",
        "\n",
        "  lista_numeros = [1,2,3,4,5,6]\n",
        "  if resultado_lanzamiento == \"Cara\":\n",
        "    lista_numeros.clear()\n",
        "    print(\"La lista se autodestruira.\")\n",
        "    print(lista_numeros)\n",
        "  else:\n",
        "    print(\"La lista fue salvada.\")\n",
        "    print(lista_numeros)\n",
        "probar_suerte()"
      ],
      "metadata": {
        "id": "nLZ-Qc7Vgz94"
      },
      "execution_count": null,
      "outputs": []
    },
    {
      "cell_type": "code",
      "source": [
        "lista_numeros = [1,2,15,7,2,8]\n",
        "\n",
        "def reducir_lista(lista):\n",
        "    lista = list(set(lista))\n",
        "    lista.sort()\n",
        "    lista.pop(-1)\n",
        "    return lista\n",
        "\n",
        "def promedio(lista):\n",
        "    valor_medio = sum(lista)/len(lista)\n",
        "    return valor_medio"
      ],
      "metadata": {
        "id": "VnNghukrg2Nc"
      },
      "execution_count": null,
      "outputs": []
    },
    {
      "cell_type": "code",
      "source": [
        "def suma_absolutos(*args):\n",
        "    total = 0\n",
        "    for arg in args:\n",
        "        if arg <=0:\n",
        "            arg = arg * -1\n",
        "            total += arg\n",
        "        else:\n",
        "            total += arg\n",
        "    return total\n",
        "print(suma_absolutos(1,2,-3))\n"
      ],
      "metadata": {
        "id": "_xKoVDTTi_Mj"
      },
      "execution_count": null,
      "outputs": []
    },
    {
      "cell_type": "code",
      "source": [
        "def numeros_persona(*args):\n",
        "    total = 0\n",
        "\n",
        "    for arg in args:\n",
        "        total += arg\n",
        "    return total\n",
        "nombre = input(\"Escibe tu nombre: \")\n",
        "resultado = numeros_persona(1,3,5,7)\n",
        "print(f\"Hola {nombre} la suma de tus numeros es {resultado}\")"
      ],
      "metadata": {
        "colab": {
          "base_uri": "https://localhost:8080/"
        },
        "id": "yu1UyUHlkuUD",
        "outputId": "90fa241f-b3b4-4fea-de3d-dc07738e754b"
      },
      "execution_count": null,
      "outputs": [
        {
          "output_type": "stream",
          "name": "stdout",
          "text": [
            "Escibe tu nombre: Julio\n",
            "Hola Julio la suma de tus numeros es 16\n"
          ]
        }
      ]
    },
    {
      "cell_type": "code",
      "source": [
        "import random\n",
        "\n",
        "# Definir los Arcanos Mayores del tarot\n",
        "arcanos_mayores = [\"El Mago\", \"La Sacerdotisa\", \"La Emperatriz\", \"El Emperador\", \"El Sumo Sacerdote\",\n",
        "                   \"Los Enamorados\", \"El Carro\", \"La Justicia\", \"El Ermitaño\", \"La Rueda de la Fortuna\",\n",
        "                   \"La Fuerza\", \"El Colgado\", \"La Muerte\", \"La Templanza\", \"El Diablo\", \"La Torre\",\n",
        "                   \"La Estrella\", \"La Luna\", \"El Sol\", \"El Juicio\", \"El Mundo\"]\n",
        "\n",
        "# Función para realizar una tirada de 3 cartas\n",
        "def tirada_de_tarot():\n",
        "    tirada = random.sample(arcanos_mayores, 3)\n",
        "    return tirada\n",
        "\n",
        "# Función para determinar si una carta está invertida (50% de probabilidad)\n",
        "def es_invertida():\n",
        "    return random.choice([True, False])\n",
        "\n",
        "# Función para mostrar la tirada de 3 cartas con su orientación\n",
        "def mostrar_tirada(tirada):\n",
        "    print(\"Tirada de 3 cartas del Tarot:\")\n",
        "    for carta in tirada:\n",
        "        invertida = es_invertida()\n",
        "        orientacion = \"Invertida\" if invertida else \"Normal\"\n",
        "        print(f\"{carta} - {orientacion}\")\n",
        "\n",
        "# Realizar una tirada de 3 cartas y mostrar los resultados\n",
        "tirada = tirada_de_tarot()\n",
        "mostrar_tirada(tirada)\n"
      ],
      "metadata": {
        "id": "9Is5Y7k6x1UD"
      },
      "execution_count": null,
      "outputs": []
    },
    {
      "cell_type": "code",
      "source": [
        "def cantidad_atributos(**kwargs):\n",
        "    total = 0\n",
        "    for kwarg in kwargs:\n",
        "        total += 1\n",
        "    return total\n"
      ],
      "metadata": {
        "id": "X_aTY5bkgfue"
      },
      "execution_count": null,
      "outputs": []
    },
    {
      "cell_type": "code",
      "source": [
        "def describir_persona(nombre, **kwargs):\n",
        "    print(f\"Características de {nombre}:\")\n",
        "    for clave,valor in kwargs.items():\n",
        "        print(f'{clave}: {valor}')\n",
        "\n"
      ],
      "metadata": {
        "id": "bTwU61V0n18u"
      },
      "execution_count": null,
      "outputs": []
    },
    {
      "cell_type": "code",
      "source": [
        "def devolver_distintos(a,b,c):\n",
        "  total = a+b+c\n",
        "  lista = [a,b,c]\n",
        "  for n in lista:\n",
        "    if total > 15:\n",
        "      return(max(lista))\n",
        "    elif total < 10:\n",
        "      return(min(lista))\n",
        "    else:\n",
        "      lista.sort()\n",
        "      return(lista[1])\n",
        "\n",
        "devolver_distintos(7,2,3)\n"
      ],
      "metadata": {
        "id": "rbv5fGWptM3x",
        "colab": {
          "base_uri": "https://localhost:8080/"
        },
        "outputId": "ab4adbf3-8f02-41f5-e9d8-33404ecfcfa4"
      },
      "execution_count": null,
      "outputs": [
        {
          "output_type": "execute_result",
          "data": {
            "text/plain": [
              "3"
            ]
          },
          "metadata": {},
          "execution_count": 20
        }
      ]
    },
    {
      "cell_type": "code",
      "source": [
        "\"\"\"\n",
        "Esta funcion recibe 3 integers como parámetros.\n",
        "Si la suma de los 3 numeros es mayor a 15,  devuelve el\n",
        "número mayor.\n",
        "Si la suma de los 3 numeros es menor a 10,  devuelve el\n",
        "número menor.\n",
        "Si la suma de los 3 números es un valor entre 10 y 15\n",
        "(incluidos) va a devolver el número de valor intermedio.\n",
        "\"\"\"\n",
        "\n",
        "def devolver_distintos(*args):\n",
        "    total = sum(args)\n",
        "    if total >= 15:\n",
        "      return(max(args))\n",
        "    if total <= 10:\n",
        "      return(min(args))\n",
        "    else:\n",
        "      return(total - max(args) - min(args))\n",
        "resultado = devolver_distintos(3,5,6)\n",
        "print(\"Resultado\",resultado)"
      ],
      "metadata": {
        "colab": {
          "base_uri": "https://localhost:8080/"
        },
        "id": "J20v3jHGwMLi",
        "outputId": "170f11a7-020b-48aa-aec6-e2c1e041bd06"
      },
      "execution_count": null,
      "outputs": [
        {
          "output_type": "stream",
          "name": "stdout",
          "text": [
            "Resultado 5\n"
          ]
        }
      ]
    },
    {
      "cell_type": "code",
      "source": [
        "\"\"\"\n",
        "En esta funcion se ingresa una palabra y se devuelven sus\n",
        "letras en orden alfabetico sin que se repitan.\n",
        "\"\"\"\n",
        "def palabra_ordenada():\n",
        "  palabra = input(\"Escibe una palabra cualquiera. \")\n",
        "  palabra = list(set(palabra))\n",
        "  palabra.sort()\n",
        "  for i in palabra:\n",
        "    print(i,end=\" \")\n",
        "palabra_ordenada()"
      ],
      "metadata": {
        "colab": {
          "base_uri": "https://localhost:8080/"
        },
        "id": "gbPxW2xrt3aD",
        "outputId": "7bb426f6-5248-4deb-b3d8-dd4bc5b26bd6"
      },
      "execution_count": null,
      "outputs": [
        {
          "output_type": "stream",
          "name": "stdout",
          "text": [
            "Escibe una palabra cualquiera. IVONNE\n",
            "E I N O V "
          ]
        }
      ]
    },
    {
      "cell_type": "code",
      "source": [
        "\"\"\"\n",
        "Esta es una función que requiere una cantidad indefinida de\n",
        "argumentos. Lo que hará esta función es devolver True si en\n",
        "algún momento se ha ingresado al numero repetido dos\n",
        "veces consecutivas.\n",
        "\"\"\"\n",
        "def n_repetido(lista_numeros):\n",
        "\n",
        "  for i in range(len(lista_numeros)-1):\n",
        "    if lista_numeros[i] == lista_numeros[i + 1]:\n",
        "      return True\n",
        "  return False\n",
        "lista_numeros = [12,12,1,3,4,2,4,0]\n",
        "llamar = n_repetido(lista_numeros)\n",
        "\n",
        "if llamar:\n",
        "  print(\"Hay numeros repetidos. \")\n",
        "else:\n",
        "  print(\"No hay numero repetidos. \")\n",
        "\n"
      ],
      "metadata": {
        "colab": {
          "base_uri": "https://localhost:8080/"
        },
        "id": "bu5Ecjiy1S2u",
        "outputId": "ce762252-6616-48af-c236-c863f35d6fe4"
      },
      "execution_count": null,
      "outputs": [
        {
          "output_type": "stream",
          "name": "stdout",
          "text": [
            "Hay numeros repetidos. \n"
          ]
        }
      ]
    },
    {
      "cell_type": "code",
      "source": [
        "\"\"\"\n",
        "Esta es una función que requiere una cantidad indefinida de\n",
        "argumentos. Lo que hará esta función es devolver True si en\n",
        "algún momento se ha ingresado al numero cero repetido dos\n",
        "veces consecutivas.\n",
        "\"\"\"\n",
        "def cero_repetido(lista_numeros):\n",
        "  for i in range(len(lista_numeros)-1):\n",
        "    if lista_numeros[i] == 0 and lista_numeros[i + 1] == 0 :\n",
        "        return True\n",
        "  return False\n",
        "lista_numeros = [12,12,1,3,40,0,0,2,4,0]\n",
        "llamar = cero_repetido(lista_numeros)\n",
        "print(lista_numeros)\n",
        "if llamar:\n",
        "  print(\"Hay numeros 0 (cero) repetidos consecutivos. \")\n",
        "else:\n",
        "  print(\"No hay numero 0 (cero) repetidos consecutivos. \")\n",
        "\n"
      ],
      "metadata": {
        "colab": {
          "base_uri": "https://localhost:8080/"
        },
        "id": "46tepINv8Ctw",
        "outputId": "2d98fec3-eae1-4ccb-dc2c-64d8709f8d87"
      },
      "execution_count": null,
      "outputs": [
        {
          "output_type": "stream",
          "name": "stdout",
          "text": [
            "[12, 12, 1, 3, 40, 0, 0, 2, 4, 0]\n",
            "Hay numeros 0 (cero) repetidos consecutivos. \n"
          ]
        }
      ]
    },
    {
      "cell_type": "code",
      "source": [
        "\n",
        "def contar_primos():\n",
        "  num = int(input(\"Ingresa un numero. \"))\n",
        "\n",
        "  suma_primos = 0\n",
        "  if num <= 1:\n",
        "\n",
        "    print(\"Escribe un numeor mayo a 1.\")\n",
        "  else:\n",
        "    for i in range(2,num + 1):\n",
        "      es_primo = True\n",
        "      for j in range(2,int(i**0.5) + 1):\n",
        "        if i % j == 0:\n",
        "          es_primo = False\n",
        "          break\n",
        "        if es_primo:\n",
        "          suma_primos += 1\n",
        "      print(f\"Hay {suma_primos}\",end=\" \")\n",
        "\n",
        "contar_primos()\n",
        "\n"
      ],
      "metadata": {
        "colab": {
          "base_uri": "https://localhost:8080/"
        },
        "id": "uv8tB_5POQsN",
        "outputId": "97836669-dbde-4550-e8e0-51a4e3b6bcaf"
      },
      "execution_count": null,
      "outputs": [
        {
          "output_type": "stream",
          "name": "stdout",
          "text": [
            "Ingresa un numero. 2\n",
            "Hay 0 "
          ]
        }
      ]
    },
    {
      "cell_type": "code",
      "source": [
        "import random\n",
        "\n",
        "\"\"\" Esta funcion selecciona una palabra de la lista estados_mexicanos \"\"\"\n",
        "def seleccion_palabra_secreta():\n",
        "\n",
        "  estados_mexicanos = [\n",
        "    \"Aguascalientes\",\n",
        "    \"Baja California\",\n",
        "    \"Baja California Sur\",\n",
        "    \"Campeche\",\n",
        "    \"Chiapas\",\n",
        "    \"Chihuahua\",\n",
        "    \"Coahuila\",\n",
        "    \"Colima\",\n",
        "    \"Durango\",\n",
        "    \"Estado de México\",\n",
        "    \"Guanajuato\",\n",
        "    \"Guerrero\",\n",
        "    \"Hidalgo\",\n",
        "    \"Jalisco\",\n",
        "    \"Michoacán\",\n",
        "    \"Morelos\",\n",
        "    \"Nayarit\",\n",
        "    \"Nuevo León\",\n",
        "    \"Oaxaca\",\n",
        "    \"Puebla\",\n",
        "    \"Querétaro\",\n",
        "    \"Quintana Roo\",\n",
        "    \"San Luis Potosí\",\n",
        "    \"Sinaloa\",\n",
        "    \"Sonora\",\n",
        "    \"Tabasco\",\n",
        "    \"Tamaulipas\",\n",
        "    \"Tlaxcala\",\n",
        "    \"Veracruz\",\n",
        "    \"Yucatán\",\n",
        "    \"Zacatecas\"\n",
        "]\n",
        "\n",
        "  return random.choice(estados_mexicanos)\n",
        "palabra_secreta = seleccion_palabra_secreta()\n",
        "# Falta hacer minuscula el estado seleccionado.\n",
        "\n",
        "def ocultar_palabra():\n",
        "\n",
        "\n",
        "\n",
        "def seleccion_de_letra():\n",
        "  letra_seleccionada = input(\"Selecciona una letra del albabeto para saber si se encuentra en la 'Palabra secreta'. \")\n",
        "  letra_seleccionada = letra_seleccionada.lower()\n",
        "#falta comprobar que sea una letra valida y no algun otro dato.\n",
        "\n",
        "def verificar_coincidencia():\n",
        "# Esta funcion debe mostrar las coincidencias entre la seleccion de letra por parte del usuario y el estado seleccionado aleatoriamente.\n",
        "# bucle en el cual viaje en todos los indices de la palabra seleccionada.\n"
      ],
      "metadata": {
        "colab": {
          "base_uri": "https://localhost:8080/"
        },
        "id": "uoX1KOR8psdj",
        "outputId": "40720e70-a375-466a-cb9b-de075ee91fbe"
      },
      "execution_count": null,
      "outputs": [
        {
          "output_type": "stream",
          "name": "stdout",
          "text": [
            "Zacatecas\n"
          ]
        }
      ]
    }
  ]
}