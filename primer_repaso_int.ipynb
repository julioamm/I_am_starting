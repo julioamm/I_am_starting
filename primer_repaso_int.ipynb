{
  "nbformat": 4,
  "nbformat_minor": 0,
  "metadata": {
    "colab": {
      "provenance": [],
      "authorship_tag": "ABX9TyPkJq2u3RZb9AufYyuirtYC",
      "include_colab_link": true
    },
    "kernelspec": {
      "name": "python3",
      "display_name": "Python 3"
    },
    "language_info": {
      "name": "python"
    }
  },
  "cells": [
    {
      "cell_type": "markdown",
      "metadata": {
        "id": "view-in-github",
        "colab_type": "text"
      },
      "source": [
        "<a href=\"https://colab.research.google.com/github/julioamm/I_am_starting/blob/main/primer_repaso_int.ipynb\" target=\"_parent\"><img src=\"https://colab.research.google.com/assets/colab-badge.svg\" alt=\"Open In Colab\"/></a>"
      ]
    },
    {
      "cell_type": "code",
      "execution_count": null,
      "metadata": {
        "colab": {
          "base_uri": "https://localhost:8080/"
        },
        "id": "KjDKXVcoRAD5",
        "outputId": "a48d6921-947a-41af-e0b3-e1ccb298368b"
      },
      "outputs": [
        {
          "output_type": "stream",
          "name": "stdout",
          "text": [
            "Hola mundo\n"
          ]
        }
      ],
      "source": [
        "print(\"Hola mundo\")"
      ]
    },
    {
      "cell_type": "code",
      "source": [
        "var = \"Hola Mundo\"\n",
        "print(var)"
      ],
      "metadata": {
        "colab": {
          "base_uri": "https://localhost:8080/"
        },
        "id": "micPHYlORJQ0",
        "outputId": "0a4304ad-1620-4437-9ce9-98326c4f6066"
      },
      "execution_count": null,
      "outputs": [
        {
          "output_type": "stream",
          "name": "stdout",
          "text": [
            "Hola Mundo\n"
          ]
        }
      ]
    },
    {
      "cell_type": "code",
      "source": [
        "nombre = input(\"Introduce tu nombre\")\n",
        "print(\"Hola\"+\" \"+ nombre)"
      ],
      "metadata": {
        "colab": {
          "base_uri": "https://localhost:8080/"
        },
        "id": "ZL5Kx-fyRZN9",
        "outputId": "85dcf285-faad-4f8f-fce5-9b5f20273e9c"
      },
      "execution_count": null,
      "outputs": [
        {
          "output_type": "stream",
          "name": "stdout",
          "text": [
            "Introduce tu nombreJulio\n",
            "Hola Julio\n"
          ]
        }
      ]
    },
    {
      "cell_type": "code",
      "source": [
        "print(((3+2)/(2-5))**2)"
      ],
      "metadata": {
        "colab": {
          "base_uri": "https://localhost:8080/"
        },
        "id": "ZIiddP-OR38S",
        "outputId": "42aca7f9-56c9-4d6a-bfba-c2943f949b0f"
      },
      "execution_count": null,
      "outputs": [
        {
          "output_type": "stream",
          "name": "stdout",
          "text": [
            "2.777777777777778\n"
          ]
        }
      ]
    },
    {
      "cell_type": "code",
      "source": [
        "horas = int((input(\"¿Cuantas horas trabajas? \")))\n",
        "costo_x_hora = 65\n",
        "total_paga = horas * costo_x_hora\n",
        "print(f\"Tu pago seria:${total_paga}.\")"
      ],
      "metadata": {
        "colab": {
          "base_uri": "https://localhost:8080/"
        },
        "id": "qsUfeCAgSeWL",
        "outputId": "4b79078b-d3a8-4037-f1d6-974afeae4d39"
      },
      "execution_count": null,
      "outputs": [
        {
          "output_type": "stream",
          "name": "stdout",
          "text": [
            "¿Cuantas horas trabajas? 48\n",
            "Tu pago seria:$3120.\n"
          ]
        }
      ]
    },
    {
      "cell_type": "code",
      "source": [
        "n = int(input(\"Introduce un numero entero. \"))\n",
        "resultado_suma = ((n *(n + 1))/2)\n",
        "print(resultado_suma)"
      ],
      "metadata": {
        "colab": {
          "base_uri": "https://localhost:8080/"
        },
        "id": "h9RyZgt-TyyC",
        "outputId": "893433bc-d8ad-426c-f671-43c671eb2ccc"
      },
      "execution_count": null,
      "outputs": [
        {
          "output_type": "stream",
          "name": "stdout",
          "text": [
            "Introduce un numero entero. 100\n",
            "5050.0\n"
          ]
        }
      ]
    },
    {
      "cell_type": "code",
      "source": [
        "kg = float(input(\"Escribe tu peso: \"))\n",
        "mts = float(input(\"¿Cual es tu estarura? \"))\n",
        "imc = (kg / mts**2)\n",
        "imc_redondeado = round(imc,2)\n",
        "print(f\"Tu IMC es: {imc_redondeado}\")\n"
      ],
      "metadata": {
        "colab": {
          "base_uri": "https://localhost:8080/"
        },
        "id": "P1xVazpbWXFF",
        "outputId": "b3f3a8b7-1a1c-42b0-fd38-5517e6e6678b"
      },
      "execution_count": null,
      "outputs": [
        {
          "output_type": "stream",
          "name": "stdout",
          "text": [
            "Escribe tu peso: 89\n",
            "¿Cual es tu estarura? 1.60\n",
            "Tu IMC es: 34.77\n"
          ]
        }
      ]
    },
    {
      "cell_type": "code",
      "source": [
        "num = int(input(\"Introduce un numero a dividir: \"))\n",
        "num2 = int(input(\"Introduce un divisor: \"))\n",
        "cociente = num / num2\n",
        "resto = num % num2\n",
        "print(f\"el resultado de la division es {cociente} y sobra un resto de {resto}\")\n"
      ],
      "metadata": {
        "colab": {
          "base_uri": "https://localhost:8080/"
        },
        "id": "3Iqs_JmzantF",
        "outputId": "296b8925-1010-49c8-a6f1-eedf230bf796"
      },
      "execution_count": null,
      "outputs": [
        {
          "output_type": "stream",
          "name": "stdout",
          "text": [
            "Introduce un numero a dividir: 1984\n",
            "Introduce un divisor: 656\n",
            "el resultado de la division es 3.024390243902439 y sobra un resto de 16\n"
          ]
        }
      ]
    },
    {
      "cell_type": "code",
      "source": [
        "inversion = int(input(\"¿Cual es el monto a invertir? \"))\n",
        "interes_anual = float(input(\"¿Cual es la tasa de interes anual? \"))\n",
        "anios_de_inversion = int(input(\"¿Cuantos años lo vasa invertir? \"))\n",
        "interes_anual_decimal = interes_anual / 100\n",
        "\n",
        "total_capital = inversion * (1 + interes_anual_decimal) ** anios_de_inversion\n",
        "total_capital_redondeado = round(total_capital, 2)\n",
        "print(total_capital_redondeado)"
      ],
      "metadata": {
        "colab": {
          "base_uri": "https://localhost:8080/"
        },
        "id": "DNtOQ4uNrYGC",
        "outputId": "062062ce-fa5f-48bc-c9f3-76fa5d0219b0"
      },
      "execution_count": null,
      "outputs": [
        {
          "output_type": "stream",
          "name": "stdout",
          "text": [
            "¿Cual es el monto a invertir? 100000\n",
            "¿Cual es la tasa de interes anual? 1.2\n",
            "¿Cuantos años lo vasa invertir? 3\n",
            "103643.37\n"
          ]
        }
      ]
    },
    {
      "cell_type": "code",
      "source": [
        "print(\"tienda de juguetes\")\n",
        "payaso = 112\n",
        "muneca = 75\n",
        "\n",
        "peso_total_payaso = 112 * int(input(\"¿Cuantos payasos son en el pedido? \"))\n",
        "peso_total_muneca = 75 * int(input(\"¿Cuantas munecas son en el pedido? \"))\n",
        "\n",
        "total_kilos_pedido = float(peso_total_payaso + peso_total_muneca) / 100\n",
        "\n",
        "\n",
        "print(\"El pso total es: \", total_kilos_pedido ,\"Kilogramos\")\n"
      ],
      "metadata": {
        "colab": {
          "base_uri": "https://localhost:8080/"
        },
        "id": "MGDuMVaus0J9",
        "outputId": "b9fe014a-cfb5-45a2-9027-cb9ce5b04cf4"
      },
      "execution_count": null,
      "outputs": [
        {
          "output_type": "stream",
          "name": "stdout",
          "text": [
            "tienda de juguetes\n",
            "¿Cuantos payasos son en el pedido? 10\n",
            "¿Cuantas munecas son en el pedido? 10\n",
            "El pso total es:  18.7 Kilogramos\n"
          ]
        }
      ]
    },
    {
      "cell_type": "code",
      "source": [
        "cuenta_bancaria = float(input(\"¿Cuanto dinero tienes en tu cuenta? \"))\n",
        "interes_anual = 4 / 100\n",
        "tiempo1 = 1\n",
        "tiempo2 = 2\n",
        "tiempo3 = 3\n",
        "saldo_final1 = cuenta_bancaria * (1 + interes_anual) ** tiempo1\n",
        "saldo_final2 = saldo_final1 * (1 + interes_anual) ** tiempo2\n",
        "saldo_final3 = saldo_final2 * (1 + interes_anual) ** tiempo3\n",
        "\n",
        "saldo_final_round = round(saldo_final1,2)\n",
        "saldo_fina2_round = round(saldo_final2,2)\n",
        "saldo_fina3_round = round(saldo_final3,2)\n",
        "\n",
        "print(f\"el primer año tendras {saldo_final_round}, el segundo año {saldo_fina2_round} y al tercer año {saldo_fina3_round}\")"
      ],
      "metadata": {
        "colab": {
          "base_uri": "https://localhost:8080/"
        },
        "id": "FasVz6bDu04Y",
        "outputId": "93f20074-506d-44e8-fdd5-1ab20678f59e"
      },
      "execution_count": null,
      "outputs": [
        {
          "output_type": "stream",
          "name": "stdout",
          "text": [
            "¿Cuanto dinero tienes en tu cuenta? 10\n",
            "el primer año tendras 10.4, el segundo año 11.25 y al tercer año 12.65\n"
          ]
        }
      ]
    },
    {
      "cell_type": "code",
      "source": [
        "pan_fresco = 3.49\n",
        "pan_viejo_precio = round(pan_fresco * 0.40,2)\n",
        "pan_viejo_costo = round(pan_fresco * 0.60,2)\n",
        "\n",
        "print(f\"El pan fresco vale {pan_fresco} , despues de un dia vale {pan_viejo_precio}, el costo de no venderlo fresco es {pan_viejo_costo}\")"
      ],
      "metadata": {
        "colab": {
          "base_uri": "https://localhost:8080/"
        },
        "id": "o5GMzD7r4WEm",
        "outputId": "9ddda8dc-dace-4fc2-8245-e9064a77d91f"
      },
      "execution_count": null,
      "outputs": [
        {
          "output_type": "stream",
          "name": "stdout",
          "text": [
            "El pan fresco vale 3.49 , despues de un dia vale 1.4, el costo de no venderlo fresco es 2.09\n"
          ]
        }
      ]
    }
  ]
}