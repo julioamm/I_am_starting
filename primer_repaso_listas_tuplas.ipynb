{
  "nbformat": 4,
  "nbformat_minor": 0,
  "metadata": {
    "colab": {
      "provenance": [],
      "authorship_tag": "ABX9TyOR9cU/AeyvXPH/yHN+Lgom",
      "include_colab_link": true
    },
    "kernelspec": {
      "name": "python3",
      "display_name": "Python 3"
    },
    "language_info": {
      "name": "python"
    }
  },
  "cells": [
    {
      "cell_type": "markdown",
      "metadata": {
        "id": "view-in-github",
        "colab_type": "text"
      },
      "source": [
        "<a href=\"https://colab.research.google.com/github/julioamm/I_am_starting/blob/main/primer_repaso_listas_tuplas.ipynb\" target=\"_parent\"><img src=\"https://colab.research.google.com/assets/colab-badge.svg\" alt=\"Open In Colab\"/></a>"
      ]
    },
    {
      "cell_type": "code",
      "execution_count": null,
      "metadata": {
        "colab": {
          "base_uri": "https://localhost:8080/"
        },
        "id": "KH1-ayUOchEP",
        "outputId": "1c654f1e-6361-446b-fb27-00e444e24423"
      },
      "outputs": [
        {
          "output_type": "stream",
          "name": "stdout",
          "text": [
            "Matemáticas\n",
            "Física\n",
            "Química\n",
            "Historia\n",
            "Lengua\n"
          ]
        }
      ],
      "source": [
        "curso = [\"Matemáticas\", \"Física\", \"Química\", \"Historia\", \"Lengua\"]\n",
        "for materia in curso:\n",
        "  print(materia)"
      ]
    },
    {
      "cell_type": "code",
      "source": [
        "#Escribir un programa que almacene las asignaturas de un curso (por ejemplo Matemáticas, Física, Química, Historia y Lengua)\n",
        "#en una lista y la muestre por pantalla el mensaje Yo estudio <asignatura>,\n",
        "#donde <asignatura> es cada una de las asignaturas de la lista.\n",
        "curso = [\"Matemáticas\", \"Física\", \"Química\", \"Historia\", \"Lengua\"]\n",
        "for materia in curso:\n",
        "  print(f\"Yo estudio: {materia}\")"
      ],
      "metadata": {
        "colab": {
          "base_uri": "https://localhost:8080/"
        },
        "id": "Wm5Sei-VdFxM",
        "outputId": "1b245574-5ddc-4823-ddfb-c289fe97c3d1"
      },
      "execution_count": null,
      "outputs": [
        {
          "output_type": "stream",
          "name": "stdout",
          "text": [
            "Yo estudio: Matemáticas\n",
            "Yo estudio: Física\n",
            "Yo estudio: Química\n",
            "Yo estudio: Historia\n",
            "Yo estudio: Lengua\n"
          ]
        }
      ]
    },
    {
      "cell_type": "code",
      "source": [
        "curso = [\"Matemáticas\", \"Física\", \"Química\", \"Historia\", \"Lengua\"]\n",
        "lista_calificacion = []\n",
        "for materia in curso:\n",
        "  calificacion = input(f\"Cual fue tu calificacion en: {materia} \")\n",
        "  lista_calificacion.append((materia,calificacion))\n",
        "for materia,calificacion in lista_calificacion:\n",
        "  print(f\"tu calificacion en {materia} fue {calificacion}\")"
      ],
      "metadata": {
        "colab": {
          "base_uri": "https://localhost:8080/"
        },
        "id": "CfmFVrjSdyBL",
        "outputId": "c146dc97-7ddd-4c1b-80fa-2453143f56db"
      },
      "execution_count": null,
      "outputs": [
        {
          "output_type": "stream",
          "name": "stdout",
          "text": [
            "Cual fue tu calificacion en: Matemáticas 9\n",
            "Cual fue tu calificacion en: Física 8\n",
            "Cual fue tu calificacion en: Química 10\n",
            "Cual fue tu calificacion en: Historia 6\n",
            "Cual fue tu calificacion en: Lengua 8\n",
            "tu calificacion en Matemáticas fue 9\n",
            "tu calificacion en Física fue 8\n",
            "tu calificacion en Química fue 10\n",
            "tu calificacion en Historia fue 6\n",
            "tu calificacion en Lengua fue 8\n"
          ]
        }
      ]
    },
    {
      "cell_type": "code",
      "source": [
        "#Escribir un programa que pregunte al usuario los números ganadores de la lotería primitiva,\n",
        "#los almacene en una lista y los muestre por pantalla ordenados de menor a mayor.\n",
        "from random import randint\n",
        "num_loteria = []\n",
        "for n in range(6):\n",
        "  num_aleatorio = randint(1,56)\n",
        "  num_loteria.append(num_aleatorio)\n",
        "print(sorted(num_loteria))\n",
        "\n"
      ],
      "metadata": {
        "colab": {
          "base_uri": "https://localhost:8080/"
        },
        "id": "Lr4HgIgzlul_",
        "outputId": "a51a0e3b-aa82-41e5-deb5-5d27598f825b"
      },
      "execution_count": null,
      "outputs": [
        {
          "output_type": "stream",
          "name": "stdout",
          "text": [
            "[10, 22, 40, 42, 45, 52]\n"
          ]
        }
      ]
    },
    {
      "cell_type": "code",
      "source": [
        "#Escribir un programa que almacene en una lista los números del 1 al 10 y\n",
        "#los muestre por pantalla en orden inverso separados por comas.\n",
        "lista_num = []\n",
        "for n in range(1,11):\n",
        "  lista_num.append(str(n))\n",
        "  lista_invertida = \",\".join(lista_num[::-1])\n",
        "print(lista_invertida)"
      ],
      "metadata": {
        "colab": {
          "base_uri": "https://localhost:8080/"
        },
        "id": "KhIp5YYYowf1",
        "outputId": "49e261b0-c9bf-4d70-e986-67b5355dbc0a"
      },
      "execution_count": null,
      "outputs": [
        {
          "output_type": "stream",
          "name": "stdout",
          "text": [
            "10,9,8,7,6,5,4,3,2,1\n"
          ]
        }
      ]
    },
    {
      "cell_type": "code",
      "source": [
        "curso = [\"Matemáticas\", \"Física\", \"Química\", \"Historia\", \"Lengua\"]\n",
        "lista_calificacion = []\n",
        "for materia in curso:\n",
        "  calificacion = int(input(f\"Cual fue tu calificacion en: {materia} \"))\n",
        "  lista_calificacion.append((materia,calificacion))\n",
        "for materia,calificacion in lista_calificacion:\n",
        "  if calificacion <= 5:\n",
        "    print(f\"Tienes que repetir {materia}.\")\n"
      ],
      "metadata": {
        "colab": {
          "base_uri": "https://localhost:8080/"
        },
        "id": "2fLepvP_sD0I",
        "outputId": "ef497481-c6a8-41de-e76f-2eea5d619c05"
      },
      "execution_count": null,
      "outputs": [
        {
          "output_type": "stream",
          "name": "stdout",
          "text": [
            "Cual fue tu calificacion en: Matemáticas 9\n",
            "Cual fue tu calificacion en: Física 5\n",
            "Cual fue tu calificacion en: Química 6\n",
            "Cual fue tu calificacion en: Historia 8\n",
            "Cual fue tu calificacion en: Lengua 3\n",
            "Tienes que repetir Física.\n",
            "Tienes que repetir Lengua.\n"
          ]
        }
      ]
    },
    {
      "cell_type": "code",
      "source": [
        "#Escribir un programa que almacene el abecedario en una lista, elimine de la lista\n",
        "#las letras que ocupen posiciones múltiplos de 3, y muestre por pantalla la lista resultante.\n",
        "import string\n",
        "abecedario = list(string.ascii_lowercase)\n",
        "i = 2\n",
        "while i < len(abecedario):\n",
        "  del abecedario[i]\n",
        "  i += 2\n",
        "print(abecedario)"
      ],
      "metadata": {
        "colab": {
          "base_uri": "https://localhost:8080/"
        },
        "id": "3wZlVzbjtcOe",
        "outputId": "154edbfe-dd83-4011-ca44-959f0995874b"
      },
      "execution_count": null,
      "outputs": [
        {
          "output_type": "stream",
          "name": "stdout",
          "text": [
            "['a', 'b', 'd', 'e', 'g', 'h', 'j', 'k', 'm', 'n', 'p', 'q', 's', 't', 'v', 'w', 'y', 'z']\n"
          ]
        }
      ]
    },
    {
      "cell_type": "code",
      "source": [
        "#Escribir un programa que pida al usuario una palabra y muestre por pantalla si es un palíndromo.\n",
        "palabra = input(\"Escribe una palabra. \")\n",
        "palabra = palabra.lower()\n",
        "if palabra[::-1] == palabra:\n",
        "  print(\"Es un palindromo\")\n",
        "else:\n",
        "  print(\"No es un palindromo\")"
      ],
      "metadata": {
        "colab": {
          "base_uri": "https://localhost:8080/"
        },
        "id": "6XwFU7Vp1sKN",
        "outputId": "da153996-7fc4-4de2-de03-e43a00ff78d0"
      },
      "execution_count": null,
      "outputs": [
        {
          "output_type": "stream",
          "name": "stdout",
          "text": [
            "Escribe una palabra. Reconocer\n",
            "Es un palindromo\n"
          ]
        }
      ]
    },
    {
      "cell_type": "code",
      "source": [
        "#Escribir un programa que pida al usuario una palabra y muestre por pantalla el número de veces que contiene cada vocal.\n",
        "vocales = [\"a\",\"e\",\"i\",\"o\",\"u\"]\n",
        "frase = input(\"Escribe una palabra: \")\n",
        "frase = frase.lower()\n",
        "for vocal in vocales:\n",
        "  contador = 0\n",
        "  for letra in frase:\n",
        "    if vocal == letra:\n",
        "      contador += 1\n",
        "  print(f\"la vocal {vocal} esta {str(contador)}\")"
      ],
      "metadata": {
        "colab": {
          "base_uri": "https://localhost:8080/"
        },
        "id": "p5NJdly6HMKO",
        "outputId": "589c5fe3-d794-4631-98b1-a88c683d3c4c"
      },
      "execution_count": null,
      "outputs": [
        {
          "output_type": "stream",
          "name": "stdout",
          "text": [
            "Escribe una palabra: Julio aberto muñoz munive\n",
            "la vocal a esta 1\n",
            "la vocal e esta 2\n",
            "la vocal i esta 2\n",
            "la vocal o esta 3\n",
            "la vocal u esta 3\n"
          ]
        }
      ]
    },
    {
      "cell_type": "code",
      "source": [
        "vocales = [\"a\",\"e\",\"i\",\"o\",\"u\"]\n",
        "palabra = input(\"Escribe una palabra: \").lower()\n",
        "for vocal in vocales:\n",
        "  contador = palabra.count(vocal)\n",
        "  print(f\"La letra {vocal} esta {contador} vez.\")"
      ],
      "metadata": {
        "colab": {
          "base_uri": "https://localhost:8080/"
        },
        "id": "VGLH4N9oXloW",
        "outputId": "e6edcaa1-2d9e-43ee-bbb8-38f11fe7eb20"
      },
      "execution_count": null,
      "outputs": [
        {
          "output_type": "stream",
          "name": "stdout",
          "text": [
            "Escribe una palabra: Julio\n",
            "La letra a esta 0 vez.\n",
            "La letra e esta 0 vez.\n",
            "La letra i esta 1 vez.\n",
            "La letra o esta 1 vez.\n",
            "La letra u esta 1 vez.\n"
          ]
        }
      ]
    },
    {
      "cell_type": "code",
      "source": [
        "#Escribir un programa que almacene en una lista los siguientes precios\n",
        "#, 50, 75, 46, 22, 80, 65, 8, y muestre por pantalla el menor y el mayor de los precios.\n",
        "precios = [50, 75, 46, 22, 80, 65, 8]\n",
        "maximo = max(precios)\n",
        "minimo = min(precios)\n",
        "print(maximo)\n",
        "print(minimo)"
      ],
      "metadata": {
        "colab": {
          "base_uri": "https://localhost:8080/"
        },
        "id": "slPf58_Cakbc",
        "outputId": "c00661cc-ce2d-4a72-c784-ec43679ca4db"
      },
      "execution_count": null,
      "outputs": [
        {
          "output_type": "stream",
          "name": "stdout",
          "text": [
            "80\n",
            "8\n"
          ]
        }
      ]
    },
    {
      "cell_type": "code",
      "source": [
        "#Escribir un programa que almacene los vectores (1,2,3) y (-1,0,2) en dos listas y muestre por pantalla su producto escalar.\n",
        "v1 = (1,2,3)\n",
        "v2 = (-1,0,2)\n",
        "product = 0\n",
        "for n in range(len(v1)):\n",
        "  product += v1[n]*v2[n]\n",
        "print(f\"El producto escalar es {product}\")\n",
        "\n"
      ],
      "metadata": {
        "colab": {
          "base_uri": "https://localhost:8080/"
        },
        "id": "X2iToQQucNf4",
        "outputId": "1e6b17b3-5c6a-47d3-f94f-77fcf8d94320"
      },
      "execution_count": null,
      "outputs": [
        {
          "output_type": "stream",
          "name": "stdout",
          "text": [
            "El producto escalar es 5\n"
          ]
        }
      ]
    },
    {
      "cell_type": "code",
      "source": [
        "v1 = [1,2,3]\n",
        "v2 = [-1,0,2]\n",
        "product = 0\n",
        "for n in range(len(v1)):\n",
        "  product += v1[n]*v2[n]\n",
        "print(product)"
      ],
      "metadata": {
        "colab": {
          "base_uri": "https://localhost:8080/"
        },
        "id": "mxsOO81-e2o-",
        "outputId": "60da0963-4fad-4658-f14f-b8a20ec336b6"
      },
      "execution_count": null,
      "outputs": [
        {
          "output_type": "stream",
          "name": "stdout",
          "text": [
            "5\n"
          ]
        }
      ]
    },
    {
      "cell_type": "code",
      "source": [
        "import statistics\n",
        "lista = [29,10,19,84,34,45,23,6]\n",
        "promedio = statistics.mean(lista)\n",
        "desviacion = statistics.stdev(lista)\n",
        "print(f\"promedio {promedio}, desviacion {desviacion}\")"
      ],
      "metadata": {
        "colab": {
          "base_uri": "https://localhost:8080/"
        },
        "id": "epXpd2DDfa1W",
        "outputId": "ada2af89-6fa2-40ce-c288-841b0f850fea"
      },
      "execution_count": null,
      "outputs": [
        {
          "output_type": "stream",
          "name": "stdout",
          "text": [
            "promedio 31.25, desviacion 24.760279250675435\n"
          ]
        }
      ]
    },
    {
      "cell_type": "code",
      "source": [],
      "metadata": {
        "id": "PMUwKNUObPaT"
      },
      "execution_count": null,
      "outputs": []
    }
  ]
}