{
  "nbformat": 4,
  "nbformat_minor": 0,
  "metadata": {
    "colab": {
      "provenance": [],
      "authorship_tag": "ABX9TyNTRup4p1HHjp4u2ydNDYEo",
      "include_colab_link": true
    },
    "kernelspec": {
      "name": "python3",
      "display_name": "Python 3"
    },
    "language_info": {
      "name": "python"
    }
  },
  "cells": [
    {
      "cell_type": "markdown",
      "metadata": {
        "id": "view-in-github",
        "colab_type": "text"
      },
      "source": [
        "<a href=\"https://colab.research.google.com/github/julioamm/I_am_starting/blob/main/primer_repaso_strings.ipynb\" target=\"_parent\"><img src=\"https://colab.research.google.com/assets/colab-badge.svg\" alt=\"Open In Colab\"/></a>"
      ]
    },
    {
      "cell_type": "code",
      "execution_count": null,
      "metadata": {
        "colab": {
          "base_uri": "https://localhost:8080/"
        },
        "id": "9lC-XvlOX4dQ",
        "outputId": "5ccaa7ba-5e79-49a3-cc25-08ca2a0b8395"
      },
      "outputs": [
        {
          "output_type": "stream",
          "name": "stdout",
          "text": [
            "Hola escribe tu nombre por favor: Julio Alberto Muñoz Munive\n",
            "Hola tu nombre es JULIO ALBERTO MUÑOZ MUNIVE y tiene 26 letras.\n"
          ]
        }
      ],
      "source": [
        "#Escribir un programa que pregunte el nombre del usuario en la consola y\n",
        "#después de que el usuario lo introduzca muestre por pantalla <NOMBRE> tiene <n> letras,\n",
        "#donde <NOMBRE> es el nombre de usuario en mayúsculas y <n> es el número de letras que tienen el nombre.\n",
        "\n",
        "nombre = input(\"Hola escribe tu nombre por favor: \")\n",
        "nombre = nombre.upper()\n",
        "n_letras = len(nombre)\n",
        "print(f\"Hola tu nombre es {nombre} y tiene {n_letras} letras.\")"
      ]
    },
    {
      "cell_type": "code",
      "source": [
        "#Los teléfonos de una empresa tienen el siguiente formato prefijo-número-extension\n",
        "#donde el prefijo es el código del país +34, y la extensión tiene dos dígitos (por ejemplo +34-913724710-56).\n",
        "# Escribir un programa que pregunte por un número de teléfono con este formato y muestre por pantalla\n",
        "# el número de teléfono sin el prefijo y la extensión.\n",
        "\n",
        "print(\"Hola por favor dame tu telefono con el siguiente formato: +xx-xxxxxxxx-xx \")\n",
        "num_usuario = input(\"¿Numero telefonico? \")\n",
        "\n",
        "print(f\"Hola tu numero es {(num_usuario[4:-3])} se almacenara asi.\")\n",
        "\n"
      ],
      "metadata": {
        "colab": {
          "base_uri": "https://localhost:8080/"
        },
        "id": "zERPfPnYZHWJ",
        "outputId": "ffdc835a-2c71-470e-868e-c22475f7b9f1"
      },
      "execution_count": null,
      "outputs": [
        {
          "output_type": "stream",
          "name": "stdout",
          "text": [
            "Hola por favor dame tu telefono con el siguiente formato: +xx-xxxxxxxx-xx \n",
            "¿Numero telefonico? +52-58903435-00\n",
            "Hola tu numero es 58903435 se almacenara asi.\n"
          ]
        }
      ]
    },
    {
      "cell_type": "code",
      "source": [
        "frase = input(\"Hola escribe una frase y veras lo que sucede. \")\n",
        "print(frase[::-1])"
      ],
      "metadata": {
        "colab": {
          "base_uri": "https://localhost:8080/"
        },
        "id": "S-zdOWgBeXmr",
        "outputId": "fa1dc222-b83a-4e6d-856e-3cae45e91b38"
      },
      "execution_count": null,
      "outputs": [
        {
          "output_type": "stream",
          "name": "stdout",
          "text": [
            "Hola escribe una frase y veras lo que sucede. Hola python como estas??\n",
            "??satse omoc nohtyp aloH\n"
          ]
        }
      ]
    },
    {
      "cell_type": "code",
      "source": [
        "#Escribir un programa que pregunte el correo electrónico del usuario en la consola\n",
        "#y muestre por pantalla otro correo electrónico con el mismo nombre (la parte delante de la arroba @) pero con dominio ceu.es.\n",
        "\n",
        "correo = input(\"Introduce tu e mail: \")\n",
        "if \"@\" in correo:\n",
        "  usuario,dominio = correo.split(\"@\")\n",
        "  nueva_direccion = usuario + \"@\" + \"ceu.es\"\n",
        "  print(\"Tu nueva direccion es:\"+ \" \" + nueva_direccion)\n",
        "else:\n",
        "  print(\"No es una direccion de e mail\")\n"
      ],
      "metadata": {
        "id": "iUJbp1P3iRaS",
        "colab": {
          "base_uri": "https://localhost:8080/"
        },
        "outputId": "1edb5ea6-7492-403c-e710-c97c4e4eb40d"
      },
      "execution_count": null,
      "outputs": [
        {
          "output_type": "stream",
          "name": "stdout",
          "text": [
            "Introduce tu e mail: ldkasjdlkajs@gmail.com\n",
            "Tu nueva direccion es: ldkasjdlkajs@ceu.es\n"
          ]
        }
      ]
    },
    {
      "cell_type": "code",
      "source": [
        "precio = input(\"Introduce un precio en euros: \")\n",
        "euros,centimos = precio.split(\".\")\n",
        "print(f\"El precio es: ${euros} euros con {centimos} centimos. \")"
      ],
      "metadata": {
        "colab": {
          "base_uri": "https://localhost:8080/"
        },
        "id": "a-hORYpUKkes",
        "outputId": "d041991e-5e5d-4c85-857c-3bc95128107d"
      },
      "execution_count": null,
      "outputs": [
        {
          "output_type": "stream",
          "name": "stdout",
          "text": [
            "Introduce un precio en euros: 19.90\n",
            "El precio es: $19 euros con 90 centimos. \n"
          ]
        }
      ]
    },
    {
      "cell_type": "code",
      "source": [
        "fecha_nac = input(\"Introduce la fecha de nacimiento en formato dd/mm/aaaa \")\n",
        "dia,mes,anio = fecha_nac.split(\"/\")\n",
        "print(\"Dia \",dia)\n",
        "print(\"Mes \",mes)\n",
        "print(\"Año \",anio)\n"
      ],
      "metadata": {
        "colab": {
          "base_uri": "https://localhost:8080/"
        },
        "id": "-OGQYAurL9ch",
        "outputId": "2d1b7249-49f2-45c9-e6d3-9eb21ad30fc0"
      },
      "execution_count": null,
      "outputs": [
        {
          "output_type": "stream",
          "name": "stdout",
          "text": [
            "Introduce la fecha de nacimiento en formato dd/mm/aaaa 29/10/1984\n",
            "Dia  29\n",
            "Mes  10\n",
            "Año  1984\n"
          ]
        }
      ]
    },
    {
      "cell_type": "code",
      "source": [
        "fecha_nac = input(\"Introduce tu fecha de nacimiento formato ff/dd/aaaa\")\n",
        "dia = fecha_nac[:2]\n",
        "mes = fecha_nac[3:5]\n",
        "anio = fecha_nac[6:]\n",
        "print(\"Tu fecha de nacimiento es: \")\n",
        "print(f\"Dia: {dia} \\n Mes: {mes} \\n Año: {anio}\" )\n"
      ],
      "metadata": {
        "colab": {
          "base_uri": "https://localhost:8080/"
        },
        "id": "iOj8GvsyOgRy",
        "outputId": "39010d3c-c53f-4baa-c4ae-73a5f2cd37f9"
      },
      "execution_count": null,
      "outputs": [
        {
          "output_type": "stream",
          "name": "stdout",
          "text": [
            "Introduce tu fecha de nacimiento formato ff/dd/aaaa29/10/1984\n",
            "Tu fecha de nacimiento es: \n",
            "Dia: 29 \n",
            " Mes: 10 \n",
            " Año: 1984\n"
          ]
        }
      ]
    },
    {
      "cell_type": "code",
      "source": [
        "\n",
        "lista_compras = (input(\"¿Cuales son las cosas que compraste? (NO OLVIDES SEPARARLOS POR COMAS)\"))\n",
        "listacompras1 = list(lista_compras.split(\",\"))\n",
        "for producto in listacompras1:\n",
        "  print(f\"Compraste: {producto.title()}\")"
      ],
      "metadata": {
        "colab": {
          "base_uri": "https://localhost:8080/"
        },
        "id": "AGrfA7EnQN9a",
        "outputId": "512716eb-95d8-4872-f535-4680a93cc33e"
      },
      "execution_count": null,
      "outputs": [
        {
          "output_type": "stream",
          "name": "stdout",
          "text": [
            "¿Cuales son las cosas que compraste? (NO OLVIDES SEPARARLOS POR COMAS)huevo,pan,margarina,tomates\n",
            "Compraste: Huevo\n",
            "Compraste: Pan\n",
            "Compraste: Margarina\n",
            "Compraste: Tomates\n"
          ]
        }
      ]
    }
  ]
}